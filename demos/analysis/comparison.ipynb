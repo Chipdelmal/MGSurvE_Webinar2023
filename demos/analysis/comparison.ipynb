{
 "cells": [
  {
   "cell_type": "markdown",
   "metadata": {},
   "source": [
    "# GA Performance"
   ]
  },
  {
   "cell_type": "markdown",
   "metadata": {},
   "source": [
    "Checking the performance of our GA system can be done as we would do with any other optimization application thanks to the fact that we would usually export the algorithm's evolution to a `CSV` file. To show this in action we will make use of one of the examples from our [preprint](https://www.biorxiv.org/content/10.1101/2023.06.26.546301v1). We will take the results from the optimization of the São Tomé landscape and plot the GA evolution over generations."
   ]
  },
  {
   "cell_type": "code",
   "execution_count": 41,
   "metadata": {},
   "outputs": [],
   "source": [
    "# Fix PROJ path ---------------------------------------------------------------\n",
    "import os; \n",
    "os.environ['PROJ_LIB']=r'/opt/conda/pkgs/proj-9.2.1-ha5fc9e9_0/share/proj'\n",
    "# Load libraries --------------------------------------------------------------\n",
    "from glob import glob\n",
    "import numpy as np\n",
    "import pandas as pd\n",
    "from os import path\n",
    "import MGSurvE as srv\n",
    "import cartopy.crs as ccrs\n",
    "import matplotlib.pyplot as plt\n",
    "# Setup data path and ID ------------------------------------------------------\n",
    "(ID, OUT_PTH) = ('comparison', './out/')\n",
    "srv.makeFolder(OUT_PTH)"
   ]
  },
  {
   "cell_type": "markdown",
   "metadata": {},
   "source": [
    "First, we will setup our paths and filename-related variables so that we can load the files easily. We ran the experiment for 10 repetitions with 5, 10, 15, and 20 traps; which are part of the filename differentiators:"
   ]
  },
  {
   "cell_type": "code",
   "execution_count": 36,
   "metadata": {},
   "outputs": [],
   "source": [
    "# Experiment ID and statistic used --------------------------------------------\n",
    "(ID, ST) = ('STPD', 'man')\n",
    "TRP_NUM = ['05', '10', '15', '20']\n",
    "# Setup paths and filename pattern --------------------------------------------\n",
    "(PTH_DTA, FHEAD) = ('../../data/', f'{ID}-{ST}')\n",
    "FP_PTRN = path.join(PTH_DTA, FHEAD+'_{}*.csv')\n",
    "LD_PTRN = FHEAD+'_{}-{:02d}_TRP'"
   ]
  },
  {
   "cell_type": "markdown",
   "metadata": {},
   "source": [
    "We will now create two dictionaries:\n",
    "* `FNAMES`: stores the repetition filenames in order (value), for each one of the traps numbers (key)\n",
    "* `GA_MIN`: contains the GA evolution array (value) where each row is a repetition of the optimization, for each one of the traps numbers (key)"
   ]
  },
  {
   "cell_type": "code",
   "execution_count": 5,
   "metadata": {},
   "outputs": [],
   "source": [
    "FNAMES = {trp: sorted(glob(FP_PTRN.format(trp))) for trp in TRP_NUM}\n",
    "GA_MIN = {\n",
    "    trp: np.array([\n",
    "        pd.read_csv(rep)['min'].values \n",
    "        for rep in FNAMES[trp]\n",
    "    ]) for trp in TRP_NUM\n",
    "}"
   ]
  },
  {
   "cell_type": "markdown",
   "metadata": {},
   "source": [
    "Once we have them at hand, we can plot the GA evolution as we would do any other plot with [matplotlib](https://matplotlib.org/):"
   ]
  },
  {
   "cell_type": "code",
   "execution_count": 6,
   "metadata": {},
   "outputs": [
    {
     "data": {
      "text/plain": [
       "<matplotlib.collections.LineCollection at 0x28915e680>"
      ]
     },
     "execution_count": 6,
     "metadata": {},
     "output_type": "execute_result"
    },
    {
     "data": {
      "image/png": "[encoded data removed]",
      "text/plain": [
       "<Figure size 2500x300 with 1 Axes>"
      ]
     },
     "metadata": {},
     "output_type": "display_data"
    }
   ],
   "source": [
    "(XRAN, YRAN) = ((0, 1000), (0, 3500))\n",
    "(COLS, ALPHA) = (['#390099', '#072ac8', '#e01a4f', '#ee964b'], '55')\n",
    "(fig, ax) = plt.subplots(figsize=(25, 3))\n",
    "for (ix, trp) in enumerate(TRP_NUM):\n",
    "    ax.plot(GA_MIN[trp].T, color=COLS[ix]+ALPHA, lw=1.25)\n",
    "ax.set_aspect(1/10)\n",
    "ax.set_xlim(0, XRAN[1])\n",
    "ax.set_ylim(YRAN[0], YRAN[1])\n",
    "ax.set_xlabel('Generations')\n",
    "ax.set_ylabel('Fitness (cost)')\n",
    "ax.vlines(np.arange(XRAN[0], XRAN[1]+20, 100),  YRAN[0], YRAN[1], color='#00000055', lw=1, zorder=-10)\n",
    "ax.hlines(np.arange(YRAN[0], YRAN[1]+25, 1000), XRAN[0], XRAN[1], color='#00000055', lw=1, zorder=-10)"
   ]
  },
  {
   "cell_type": "markdown",
   "metadata": {},
   "source": [
    "From this point it's fairly simple to select the best repetition from each of our settings. We generate another dictionary which will hold a tuple of the index of the repetition along with the fitness value of the best iteration:"
   ]
  },
  {
   "cell_type": "code",
   "execution_count": 33,
   "metadata": {},
   "outputs": [
    {
     "data": {
      "text/plain": [
       "{'05': (1, 2718.59172418514),\n",
       " '10': (3, 925.5308607739668),\n",
       " '15': (8, 557.6682195067987),\n",
       " '20': (8, 405.7616430769117)}"
      ]
     },
     "execution_count": 33,
     "metadata": {},
     "output_type": "execute_result"
    }
   ],
   "source": [
    "bestReps = {}\n",
    "for trp in TRP_NUM:\n",
    "    minreps = [min(rep) for rep in GA_MIN[trp]]\n",
    "    minval = min(minreps)\n",
    "    minix = minreps.index(minval)\n",
    "    bestReps[trp] = (minix+1, minval)\n",
    "bestReps"
   ]
  },
  {
   "cell_type": "markdown",
   "metadata": {},
   "source": [
    "Let's load the best landscape for each one of the trap scenarios into a dictionary as we have done before:"
   ]
  },
  {
   "cell_type": "code",
   "execution_count": 40,
   "metadata": {},
   "outputs": [
    {
     "data": {
      "text/plain": [
       "{'05': <MGSurvE.landscape.Landscape at 0x10aa814e0>,\n",
       " '10': <MGSurvE.landscape.Landscape at 0x289757bb0>,\n",
       " '15': <MGSurvE.landscape.Landscape at 0x289756fe0>,\n",
       " '20': <MGSurvE.landscape.Landscape at 0x289757b80>}"
      ]
     },
     "execution_count": 40,
     "metadata": {},
     "output_type": "execute_result"
    }
   ],
   "source": [
    "lnds = {\n",
    "    trp: srv.loadLandscape(\n",
    "        PTH_DTA, LD_PTRN.format(trp, bestReps[trp][0]), \n",
    "        fExt='pkl'\n",
    "    ) for trp in TRP_NUM\n",
    "}\n",
    "lnds\n"
   ]
  },
  {
   "cell_type": "markdown",
   "metadata": {},
   "source": [
    "We can plot the map in a couple of simple commands as we have done for all of our examples to this point!"
   ]
  },
  {
   "cell_type": "code",
   "execution_count": 56,
   "metadata": {},
   "outputs": [],
   "source": [
    "for trp in TRP_NUM:\n",
    "    lnd = lnds[trp]\n",
    "    (fig, ax) = (\n",
    "        plt.figure(figsize=(10, 10)),\n",
    "        plt.axes(projection=ccrs.PlateCarree())\n",
    "    )\n",
    "    lnd.plotSites(fig, ax, size=150)\n",
    "    lnd.plotLandBoundary(fig, ax)\n",
    "    lnd.plotTraps(\n",
    "        fig, ax, size=500,\n",
    "        zorders=(30, 25), transparencyHex='88', \n",
    "        proj=ccrs.PlateCarree()\n",
    "    )\n",
    "    srv.plotClean(fig, ax, bbox=((6.45, 6.77), (-0.02, 0.42)))\n",
    "    fig.savefig(\n",
    "        path.join(OUT_PTH, 'STP-{}.png'.format(trp)), \n",
    "        facecolor='w', bbox_inches='tight', pad_inches=0.1, dpi=300\n",
    "    )"
   ]
  },
  {
   "cell_type": "code",
   "execution_count": null,
   "metadata": {},
   "outputs": [],
   "source": []
  }
 ],
 "metadata": {
  "kernelspec": {
   "display_name": "MGSurvE",
   "language": "python",
   "name": "python3"
  },
  "language_info": {
   "codemirror_mode": {
    "name": "ipython",
    "version": 3
   },
   "file_extension": ".py",
   "mimetype": "text/x-python",
   "name": "python",
   "nbconvert_exporter": "python",
   "pygments_lexer": "ipython3",
   "version": "3.10.11"
  },
  "orig_nbformat": 4
 },
 "nbformat": 4,
 "nbformat_minor": 2
}
