{
 "cells": [
  {
   "cell_type": "markdown",
   "metadata": {},
   "source": [
    "# Visualization Tools"
   ]
  },
  {
   "cell_type": "markdown",
   "metadata": {},
   "source": [
    "We have included several visualizations that we have found useful through our development and use of the package. In this demo we will go through how to extend some of the ones we have already used through the webinar so that they can be adapted for more applications. It's worth noting that all of our plots are [matplotlib](https://matplotlib.org/)-compliant, so making changes or updates to the figures even after they are generated should be possible and easy."
   ]
  },
  {
   "cell_type": "code",
   "execution_count": null,
   "metadata": {
    "execution": {
     "iopub.execute_input": "2023-07-13T23:46:27.148041Z",
     "iopub.status.busy": "2023-07-13T23:46:27.147766Z",
     "iopub.status.idle": "2023-07-13T23:46:28.247557Z",
     "shell.execute_reply": "2023-07-13T23:46:28.247133Z"
    }
   },
   "outputs": [],
   "source": [
    "# Fix PROJ path ---------------------------------------------------------------\n",
    "import os; \n",
    "os.environ['PROJ_LIB']=r'/opt/conda/pkgs/proj-9.2.1-ha5fc9e9_0/share/proj'\n",
    "# Load libraries --------------------------------------------------------------\n",
    "import numpy as np\n",
    "import pandas as pd\n",
    "from os import path\n",
    "import MGSurvE as srv\n",
    "import matplotlib.pyplot as plt\n",
    "# Setup data path and ID ------------------------------------------------------\n",
    "(ID, OUT_PTH) = ('visualization', './out/')\n",
    "srv.makeFolder(OUT_PTH)"
   ]
  },
  {
   "cell_type": "markdown",
   "metadata": {},
   "source": [
    "## Plotting Trap Attractiveness Kernels"
   ]
  },
  {
   "cell_type": "markdown",
   "metadata": {},
   "source": [
    "For now, plotting our traps attractiveness kernels involves generating a landscape and calling the `srv.plotTrapsKernels` method. Let's define three different traps:"
   ]
  },
  {
   "cell_type": "code",
   "execution_count": null,
   "metadata": {
    "execution": {
     "iopub.execute_input": "2023-07-13T23:46:28.249948Z",
     "iopub.status.busy": "2023-07-13T23:46:28.249492Z",
     "iopub.status.idle": "2023-07-13T23:46:28.253159Z",
     "shell.execute_reply": "2023-07-13T23:46:28.252873Z"
    }
   },
   "outputs": [],
   "source": [
    "# Defining a dummy landscape --------------------------------------------------\n",
    "pts = pd.DataFrame({'x': [0, 1], 'y': [0, 1], 't': [0, 0]})\n",
    "points = pd.DataFrame(pts, columns=('x', 'y', 't'))\n",
    "# Traps info ------------------------------------------------------------------\n",
    "nullPos = [0, 0, 0]\n",
    "traps = pd.DataFrame({'x': nullPos, 'y': nullPos, 't': nullPos, 'f': nullPos})\n",
    "tKer = {\n",
    "    0: {\n",
    "        'kernel': srv.exponentialAttractiveness,\n",
    "        'params': {'A': 0.85, 'k': .01, 's': .3, 'gamma': .975, 'epsilon': 0}\n",
    "    },\n",
    "    1: {\n",
    "        'kernel': srv.exponentialDecay, \n",
    "        'params': {'A': 0.5, 'b': 0.045}\n",
    "    },\n",
    "    2: {\n",
    "        'kernel': srv.sigmoidDecay,     \n",
    "        'params': {'A': 1, 'rate': .175, 'x0': 25}\n",
    "    }\n",
    "}\n",
    "TCOL = {\n",
    "    0: '#f7258515', 1: '#fe5f5515', 2: '#5ddeb125', \n",
    "    3: '#f038ff15', 4: '#e2ef7015', 5: '#9381ff15', \n",
    "}"
   ]
  },
  {
   "cell_type": "markdown",
   "metadata": {},
   "source": [
    "And plot their profiles. Note that we are adding axis labels and changing the font sizes as we would do with any [matplotlib](https://matplotlib.org/) figure:"
   ]
  },
  {
   "cell_type": "code",
   "execution_count": null,
   "metadata": {
    "execution": {
     "iopub.execute_input": "2023-07-13T23:46:28.254748Z",
     "iopub.status.busy": "2023-07-13T23:46:28.254662Z",
     "iopub.status.idle": "2023-07-13T23:46:28.451523Z",
     "shell.execute_reply": "2023-07-13T23:46:28.451203Z"
    }
   },
   "outputs": [],
   "source": [
    "lnd = srv.Landscape(points, traps=traps, trapsKernels=tKer)\n",
    "(fig, ax) = plt.subplots(1, 1, figsize=(10, 10), sharey=False)\n",
    "(fig, ax) = srv.plotTrapsKernels(\n",
    "    fig, ax, lnd, \n",
    "    colors=TCOL, distRange=(0, 150), aspect=.25\n",
    ")\n",
    "ax.set_xlabel('Distance [m]', fontsize=20)\n",
    "ax.set_ylabel('Attraction', fontsize=20)\n",
    "ax.tick_params(axis='both', which='major', labelsize=12.5)\n",
    "fig.savefig(\n",
    "    path.join(OUT_PTH, 'TrapKernels.png'), \n",
    "    facecolor='w', bbox_inches='tight', pad_inches=0.1, dpi=300\n",
    ")"
   ]
  },
  {
   "cell_type": "markdown",
   "metadata": {},
   "source": [
    "## Plotting Lanscapes"
   ]
  },
  {
   "cell_type": "markdown",
   "metadata": {},
   "source": [
    "As we previously mentioned, our framework adheres to [matplotlib](https://matplotlib.org/) standards and, as such, we can add any type of compatible note or marker on our figures. In this example we will show some ways to do it."
   ]
  },
  {
   "cell_type": "markdown",
   "metadata": {},
   "source": [
    "### Euclidean"
   ]
  },
  {
   "cell_type": "markdown",
   "metadata": {},
   "source": [
    "We will generate a random uniform landscape with 100 points and 3 traps in it:"
   ]
  },
  {
   "cell_type": "code",
   "execution_count": null,
   "metadata": {
    "execution": {
     "iopub.execute_input": "2023-07-13T23:46:28.469505Z",
     "iopub.status.busy": "2023-07-13T23:46:28.469378Z",
     "iopub.status.idle": "2023-07-13T23:46:29.562990Z",
     "shell.execute_reply": "2023-07-13T23:46:29.562651Z"
    }
   },
   "outputs": [],
   "source": [
    "PTS_NUM = 100\n",
    "RADII = (-100, 100)\n",
    "# Generate pointset -----------------------------------------------------------\n",
    "xy = srv.ptsRandUniform(PTS_NUM, (RADII, RADII)).T\n",
    "# Re-shape pointset into dataframe --------------------------------------------\n",
    "points = pd.DataFrame({\n",
    "    'x': xy[0], 'y': xy[1], \n",
    "    't': [0]*len(xy[0])\n",
    "})\n",
    "# Setup traps -----------------------------------------------------------------\n",
    "nullTraps = [0, 0, 0]\n",
    "traps = pd.DataFrame({\n",
    "    'sid': nullTraps,\n",
    "    'x': nullTraps, 'y': nullTraps,\n",
    "    't': [0, 0, 1], 'f': nullTraps\n",
    "})\n",
    "tKer = {\n",
    "    0: {'kernel': srv.exponentialDecay, 'params': {'A': .5, 'b': .1}},\n",
    "    1: {'kernel': srv.exponentialDecay, 'params': {'A': .5, 'b': .125}}\n",
    "}\n",
    "# Instantiate Landscape -------------------------------------------------------\n",
    "lnd = srv.Landscape(\n",
    "    points, \n",
    "    kernelParams={'params': srv.MEDIUM_MOV_EXP_PARAMS, 'zeroInflation': .25}, \n",
    "    traps=traps, trapsKernels=tKer\n",
    ")"
   ]
  },
  {
   "cell_type": "markdown",
   "metadata": {},
   "source": [
    "Let's now add the ID numbers to the sites, so that we can move the traps manually:"
   ]
  },
  {
   "cell_type": "code",
   "execution_count": null,
   "metadata": {
    "execution": {
     "iopub.execute_input": "2023-07-13T23:46:29.564772Z",
     "iopub.status.busy": "2023-07-13T23:46:29.564653Z",
     "iopub.status.idle": "2023-07-13T23:46:33.072640Z",
     "shell.execute_reply": "2023-07-13T23:46:33.072329Z"
    }
   },
   "outputs": [],
   "source": [
    "(fig, ax) = plt.subplots(1, 1, figsize=(10, 10), sharey=False)\n",
    "lnd.plotSites(fig, ax, size=200)\n",
    "lnd.plotMaskedMigrationNetwork(fig, ax, alphaMin=.6, lineWidth=25)\n",
    "lnd.plotTraps(fig, ax, transparencyHex='55', size=300, zorders=(-30,-30))\n",
    "srv.plotClean(fig, ax, bbox=((-125, 125), (-125, 125)))\n",
    "for (ix, xy) in enumerate(lnd.pointCoords):\n",
    "    ax.text(\n",
    "        xy[0], xy[1], int(ix), \n",
    "        fontsize=7.5, zorder=10, ha='center', va='center_baseline'\n",
    "    )\n"
   ]
  },
  {
   "cell_type": "markdown",
   "metadata": {},
   "source": [
    "Ok, now let's do something new. Let's position our traps in three sites of our choosing. This is extremely simple by calling:"
   ]
  },
  {
   "cell_type": "code",
   "execution_count": null,
   "metadata": {
    "execution": {
     "iopub.execute_input": "2023-07-13T23:46:33.075219Z",
     "iopub.status.busy": "2023-07-13T23:46:33.075111Z",
     "iopub.status.idle": "2023-07-13T23:46:33.079963Z",
     "shell.execute_reply": "2023-07-13T23:46:33.079680Z"
    }
   },
   "outputs": [],
   "source": [
    "trpSites = [25, 50, 75]\n",
    "lnd.updateTrapsCoordsByID(trpSites)"
   ]
  },
  {
   "cell_type": "markdown",
   "metadata": {},
   "source": [
    "Finally, let's calculate the current setup's fitness and plot our landscape again with the updated information!"
   ]
  },
  {
   "cell_type": "code",
   "execution_count": null,
   "metadata": {
    "execution": {
     "iopub.execute_input": "2023-07-13T23:46:33.081497Z",
     "iopub.status.busy": "2023-07-13T23:46:33.081411Z",
     "iopub.status.idle": "2023-07-13T23:46:36.631762Z",
     "shell.execute_reply": "2023-07-13T23:46:36.631353Z"
    }
   },
   "outputs": [],
   "source": [
    "# Calculate the new fitness ---------------------------------------------------\n",
    "fitness = srv.calcDiscreteFitness(\n",
    "    lnd.trapsSiteID, lnd, \n",
    "    optimFunction=srv.getDaysTillTrapped,\n",
    "    optimFunctionArgs={'inner': np.sum, 'outer': np.sum}\n",
    ")[0]\n",
    "# Plot the new location for the traps -----------------------------------------\n",
    "(fig, ax) = plt.subplots(1, 1, figsize=(10, 10), sharey=False)\n",
    "lnd.plotSites(fig, ax, size=200)\n",
    "lnd.plotMaskedMigrationNetwork(fig, ax, alphaMin=.6, lineWidth=25)\n",
    "lnd.plotTraps(fig, ax, transparencyHex='55', size=300, zorders=(-20,-30))\n",
    "srv.plotClean(fig, ax, bbox=((-125, 125), (-125, 125)))\n",
    "srv.plotFitness(fig, ax, fitness)\n",
    "for (ix, xy) in enumerate(lnd.pointCoords):\n",
    "    ax.text(\n",
    "        xy[0], xy[1], int(ix), \n",
    "        fontsize=7.5, zorder=10, ha='center', va='center_baseline'\n",
    "    )"
   ]
  },
  {
   "cell_type": "markdown",
   "metadata": {},
   "source": [
    "Alternatively, we could modify the coordinates of our traps directly and calculate the fitness in a continuous paradigm (using `calcFitness` instead of `calcDiscreteFitness`) as follows:"
   ]
  },
  {
   "cell_type": "code",
   "execution_count": null,
   "metadata": {},
   "outputs": [],
   "source": [
    "trpCoords = [[0, 10], [50, 0], [10, 75]]\n",
    "lnd.updateTrapsCoords(trpCoords)\n",
    "# Calculate the new fitness ---------------------------------------------------\n",
    "fitness = srv.calcFitness(\n",
    "    lnd.trapsCoords, lnd, \n",
    "    optimFunction=srv.getDaysTillTrapped,\n",
    "    optimFunctionArgs={'inner': np.sum, 'outer': np.sum}\n",
    ")[0]\n",
    "# Plot the new location for the traps -----------------------------------------\n",
    "(fig, ax) = plt.subplots(1, 1, figsize=(10, 10), sharey=False)\n",
    "lnd.plotSites(fig, ax, size=200)\n",
    "lnd.plotMaskedMigrationNetwork(fig, ax, alphaMin=.6, lineWidth=25)\n",
    "lnd.plotTraps(fig, ax, transparencyHex='55', size=300, zorders=(-20,-30))\n",
    "srv.plotClean(fig, ax, bbox=((-125, 125), (-125, 125)))\n",
    "srv.plotFitness(fig, ax, fitness)\n",
    "for (ix, xy) in enumerate(lnd.pointCoords):\n",
    "    ax.text(\n",
    "        xy[0], xy[1], int(ix), \n",
    "        fontsize=7.5, zorder=10, ha='center', va='center_baseline'\n",
    "    )"
   ]
  },
  {
   "cell_type": "markdown",
   "metadata": {},
   "source": [
    "### Globe"
   ]
  },
  {
   "cell_type": "markdown",
   "metadata": {},
   "source": [
    "Plotting landscapes in latitude-longitude coordinates is a bit more complicated but [MGSurvE](https://github.com/Chipdelmal/MGSurvE) tries to adhere to [cartopy](https://scitools.org.uk/cartopy/) standards, which also makes it compatible with [OSMnx](https://osmnx.readthedocs.io/). For more information on these type of applications please have a look at our [OpenStreetMap demo](../more/osm.ipynb).\n",
    "\n",
    "![](../../media/Niangoloko.png)"
   ]
  },
  {
   "cell_type": "markdown",
   "metadata": {},
   "source": []
  }
 ],
 "metadata": {
  "kernelspec": {
   "display_name": "MGSurvE",
   "language": "python",
   "name": "python3"
  },
  "language_info": {
   "codemirror_mode": {
    "name": "ipython",
    "version": 3
   },
   "file_extension": ".py",
   "mimetype": "text/x-python",
   "name": "python",
   "nbconvert_exporter": "python",
   "pygments_lexer": "ipython3",
   "version": "3.10.12"
  }
 },
 "nbformat": 4,
 "nbformat_minor": 2
}
