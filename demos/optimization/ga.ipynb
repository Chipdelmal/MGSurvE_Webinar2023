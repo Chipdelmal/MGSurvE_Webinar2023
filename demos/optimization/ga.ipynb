{
 "cells": [
  {
   "attachments": {},
   "cell_type": "markdown",
   "metadata": {},
   "source": [
    "# Genetic Algorithms Basics\n",
    "\n",
    "Genetic Algorithms borrow inspiration from biological inheritance processes to attempt to solve optimization problems by generating a \"population\" of possible solutions (chromosomes) from which the most \"fit\" are selected for mating and mutation. By iterating this process over generations we expect the population to slowly converge upon the most \"fit\" region of our problem space which would correspond to the solution to the optimization task."
   ]
  },
  {
   "attachments": {},
   "cell_type": "markdown",
   "metadata": {},
   "source": [
    "## Problem Representation (mapping)\n",
    "\n",
    "In MGSurvE we are trying to solve the question **\"Given a heterogeneous environment and a limited number of traps, where should we place the devices?\"**, so this is the optimization task we need to map into a genetic algorithm paradigm. To do this, the positions of the traps are encoded into the chromosomes of the populations in pairs of alleles as follows:\n",
    "\n",
    "![](../../media/fitness.png)\n",
    "\n",
    "where a chromosome (or individual) would contain the position of the full set of traps. Once we have set the position of our traps we can calculate our fitness metric ($\\phi$ in this case) by computing the time it would take for a random walker to fall into a trap given the current setup (more on this in the [following section](#fitness)). "
   ]
  },
  {
   "attachments": {},
   "cell_type": "markdown",
   "metadata": {},
   "source": [
    "## Optimization Cycle"
   ]
  },
  {
   "attachments": {},
   "cell_type": "markdown",
   "metadata": {},
   "source": [
    "### Fitness\n",
    "\n",
    "Calculating the fitness function is the most computationally-intensive part of the optimization process, as it involves solving [Markov's Fundamental Matrix](https://en.wikipedia.org/wiki/Absorbing_Markov_chain) on each potential solution of our landscape.\n",
    "\n",
    "![](../../media/fits.png)\n",
    "\n",
    "For all the details of how we compute our base fitness function have a look at our [\"Mathematical Formulation\" document](../more/math.ipynb)."
   ]
  },
  {
   "attachments": {},
   "cell_type": "markdown",
   "metadata": {},
   "source": [
    "### Selection\n",
    "\n",
    "![](../../media/selection.png)\n"
   ]
  },
  {
   "attachments": {},
   "cell_type": "markdown",
   "metadata": {},
   "source": [
    "### Crossover\n",
    "\n",
    "![](../../media/crossover.png)"
   ]
  },
  {
   "attachments": {},
   "cell_type": "markdown",
   "metadata": {},
   "source": [
    "### Mutation\n",
    "\n",
    "Finally, we iterate through our population selecting some individuals for a mutation process.\n",
    "\n",
    "![](../../media/mutation.png)"
   ]
  },
  {
   "attachments": {},
   "cell_type": "markdown",
   "metadata": {},
   "source": [
    "<hr>\n",
    "\n",
    "# More Information\n",
    "\n",
    "* [Holland's original paper](https://link.springer.com/chapter/10.1007/978-1-4684-8941-5_21)\n",
    "* [DEAP's documentation](https://deap.readthedocs.io/en/master/)\n",
    "* [Fahmi Nurfikri's illustrated tutorial](https://towardsdatascience.com/an-illustrated-guide-to-genetic-algorithm-ec5615c9ebe)"
   ]
  }
 ],
 "metadata": {
  "kernelspec": {
   "display_name": "MGSurvE",
   "language": "python",
   "name": "python3"
  },
  "language_info": {
   "codemirror_mode": {
    "name": "ipython",
    "version": 3
   },
   "file_extension": ".py",
   "mimetype": "text/x-python",
   "name": "python",
   "nbconvert_exporter": "python",
   "pygments_lexer": "ipython3",
   "version": "3.10.11"
  },
  "orig_nbformat": 4
 },
 "nbformat": 4,
 "nbformat_minor": 2
}
