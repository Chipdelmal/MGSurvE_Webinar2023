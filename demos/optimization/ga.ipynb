{
 "cells": [
  {
   "attachments": {},
   "cell_type": "markdown",
   "metadata": {},
   "source": [
    "# Genetic Algorithms Basics\n",
    "\n",
    "Genetic Algorithms borrow inspiration from biological inheritance processes to attempt to solve optimization problems by generating a \"population\" of possible solutions (chromosomes) from which the most \"fit\" are selected for mating and mutation. By iterating this process over generations we expect the population to slowly converge upon the most \"fit\" region of our problem space which would correspond to the solution to the optimization task.\n",
    "\n",
    "In the following examples we will show some of our package's internal functions for educational purposes but it's worth noting that most users won't be in need to use this functions directly in common applications."
   ]
  },
  {
   "cell_type": "code",
   "execution_count": 1,
   "metadata": {
    "execution": {
     "iopub.execute_input": "2023-07-12T18:26:57.999058Z",
     "iopub.status.busy": "2023-07-12T18:26:57.998709Z",
     "iopub.status.idle": "2023-07-12T18:27:00.669306Z",
     "shell.execute_reply": "2023-07-12T18:27:00.668989Z"
    }
   },
   "outputs": [
    {
     "data": {
      "text/plain": [
       "(<Figure size 1000x1000 with 1 Axes>, <Axes: >)"
      ]
     },
     "execution_count": 1,
     "metadata": {},
     "output_type": "execute_result"
    },
    {
     "data": {
      "image/png": "[encoded data removed]",
      "text/plain": [
       "<Figure size 1000x1000 with 1 Axes>"
      ]
     },
     "metadata": {},
     "output_type": "display_data"
    }
   ],
   "source": [
    "# Fix PROJ path ---------------------------------------------------------------\n",
    "import os; \n",
    "os.environ['PROJ_LIB']=r'/opt/conda/pkgs/proj-9.2.1-ha5fc9e9_0/share/proj'\n",
    "# Load libraries --------------------------------------------------------------\n",
    "import numpy as np\n",
    "import pandas as pd\n",
    "import MGSurvE as srv\n",
    "from copy import deepcopy\n",
    "import matplotlib.pyplot as plt\n",
    "# Setup data path and ID ------------------------------------------------------\n",
    "(ID, OUT_PTH) = ('gaPrimer', './out/')\n",
    "srv.makeFolder(OUT_PTH)\n",
    "# Generate a Regular Grid -----------------------------------------------------\n",
    "(PTS_NUM, BOX_SIDE) = (10, (-20, 20))\n",
    "xy = srv.ptsRegularGrid(PTS_NUM, (BOX_SIDE, BOX_SIDE)).T\n",
    "points = pd.DataFrame({'x': xy[0], 'y': xy[1], 't': [0]*xy.shape[1]})\n",
    "# Defining Traps --------------------------------------------------------------\n",
    "nullTraps = [0, 0, 0]\n",
    "traps = pd.DataFrame({\n",
    "    'x': nullTraps, 'y': nullTraps,\n",
    "    't': nullTraps, 'f': nullTraps\n",
    "})\n",
    "tKer = {0: {'kernel': srv.exponentialDecay, 'params': {'A': .5, 'b': .50}}}\n",
    "# Setting Landscape Object Up -------------------------------------------------\n",
    "lnd = srv.Landscape(\n",
    "    points, \n",
    "    kernelParams={'params': srv.MEDIUM_MOV_EXP_PARAMS, 'zeroInflation': .25}, \n",
    "    traps=traps, trapsKernels=tKer\n",
    ")\n",
    "# Plot Results ----------------------------------------------------------------\n",
    "(fig, ax) = plt.subplots(1, 1, figsize=(10, 10), sharey=False)\n",
    "lnd.plotSites(fig, ax, size=100)\n",
    "# lnd.plotMigrationNetwork(fig, ax, alphaMin=.6, lineWidth=25)\n",
    "lnd.plotTraps(fig, ax)\n",
    "srv.plotClean(fig, ax, bbox=lnd.landLimits)"
   ]
  },
  {
   "attachments": {},
   "cell_type": "markdown",
   "metadata": {},
   "source": [
    "## Problem Representation (mapping)\n",
    "\n",
    "In MGSurvE we are trying to solve the question **\"Given a heterogeneous environment and a limited number of traps, where should we place the devices?\"**, so this is the optimization task we need to map into a genetic algorithm paradigm. To do this, the positions of the traps are encoded into the chromosomes of the populations in pairs of alleles as follows:\n",
    "\n",
    "![](../../media/fitness.png)\n",
    "\n",
    "where a chromosome (or individual) would contain the position of the full set of traps. Once we have set the position of our traps we can calculate our fitness metric ($\\phi$ in this case) by computing the time it would take for a random walker to fall into a trap given the current setup (more on this in the [following section](#fitness)). "
   ]
  },
  {
   "cell_type": "code",
   "execution_count": 2,
   "metadata": {
    "execution": {
     "iopub.execute_input": "2023-07-12T18:27:00.671386Z",
     "iopub.status.busy": "2023-07-12T18:27:00.671165Z",
     "iopub.status.idle": "2023-07-12T18:27:00.673992Z",
     "shell.execute_reply": "2023-07-12T18:27:00.673736Z"
    }
   },
   "outputs": [
    {
     "data": {
      "text/plain": [
       "array([ -9.73547186, -19.56482789,   5.28465103,  -4.24433442,\n",
       "        19.66783483,   0.31564069])"
      ]
     },
     "execution_count": 2,
     "metadata": {},
     "output_type": "execute_result"
    }
   ],
   "source": [
    "# Initializing a chromosome ---------------------------------------------------\n",
    "srv.initChromosome(\n",
    "    lnd.trapsCoords, \n",
    "    srv.genFixedTrapsMask(lnd.trapsFixed), \n",
    "    lnd.getBoundingBox()\n",
    ")"
   ]
  },
  {
   "attachments": {},
   "cell_type": "markdown",
   "metadata": {},
   "source": [
    "## Optimization Cycle"
   ]
  },
  {
   "attachments": {},
   "cell_type": "markdown",
   "metadata": {},
   "source": [
    "### Fitness\n",
    "\n",
    "The fitness (or cost) function is the quantity that guides the artificial evolutionary process, as it is the factor we will try to maximize or minimize. MGSurvE computes a summary statistic on the time it would take for a random walker on our network to fall into an absorbing state (a trap) given that it started from any site in our landscape and then attempts to minimize it. Any function that operates on a list of elements can be used for this purpose, for example:\n",
    "\n",
    "* Using the mean (`np.mean`) or total (`np.sum`) times until trapped usually results in a balanced placement of traps.\n",
    "* Minimizing the maximum (`np.max`) time it would take for a mosquito to fall into an absorbing state results in the optimization giving more priority to more remote areas of the landscape.\n",
    "* Other statistics such as the median (`np.median`) or even quantiles could potentially be used as long as they return a single quantity from a list of elements.\n",
    "\n",
    "![](../../media/fits.png)\n",
    "\n",
    "Calculating the fitness function is the most computationally-intensive part of the optimization process, as it involves solving [Markov's Fundamental Matrix](https://en.wikipedia.org/wiki/Absorbing_Markov_chain) on each potential solution of our landscape, and as such reducing the landscape and number of traps usually results in large speedups in the optimization process. \n",
    "\n",
    "For all the details and equations of how we compute our base fitness function have a look at our [\"Mathematical Formulation\"](../more/math.ipynb) document!"
   ]
  },
  {
   "cell_type": "code",
   "execution_count": 3,
   "metadata": {
    "execution": {
     "iopub.execute_input": "2023-07-12T18:27:00.675587Z",
     "iopub.status.busy": "2023-07-12T18:27:00.675468Z",
     "iopub.status.idle": "2023-07-12T18:27:00.679443Z",
     "shell.execute_reply": "2023-07-12T18:27:00.679134Z"
    }
   },
   "outputs": [
    {
     "data": {
      "text/plain": [
       "58.71200007765986"
      ]
     },
     "execution_count": 3,
     "metadata": {},
     "output_type": "execute_result"
    }
   ],
   "source": [
    "fitFuns = {'inner': np.sum, 'outer': np.mean}\n",
    "# Calculate fundamental matrix and fitness ------------------------------------\n",
    "(tau, sitesN, trapsN) = (lnd.trapsMigration, lnd.pointNumber, lnd.trapsNumber)\n",
    "F = srv.getFundamentalMatrix(tau, sitesN, trapsN)\n",
    "daysTillTrapped = np.apply_along_axis(fitFuns['inner'], 1, F)\n",
    "fitness = fitFuns['outer'](daysTillTrapped)\n",
    "# Return fitness --------------------------------------------------------------\n",
    "fitness"
   ]
  },
  {
   "attachments": {},
   "cell_type": "markdown",
   "metadata": {},
   "source": [
    "### Selection\n",
    "\n",
    "The selection process involves choosing individuals from our pool in order for them to populate the next generation of our evolutionary process (usually in a scheme that favors the fittest individuals). MGSurvE is compatible with any of the [DEAP](https://deap.readthedocs.io/en/master/api/tools.html#operators-1) selection operators but uses the [tournament operator](https://deap.readthedocs.io/en/master/api/tools.html#deap.tools.selTournament) by default. In its most basic implementation, this operator randomly takes a defined number of tournament participants (tournament size) from the initial population, selects the fittest from them and repeats the process until we have the desired population size in our next generation.\n",
    "\n",
    "![](../../media/selection.png)\n"
   ]
  },
  {
   "attachments": {},
   "cell_type": "markdown",
   "metadata": {},
   "source": [
    "### Crossover\n",
    "\n",
    "This step involves taking pairs of chromosomes and \"mixing\" their alleles to simulate mating processes. MGSurvE provides extensions to [DEAP's](https://deap.readthedocs.io/en/master/api/tools.html#operators-1) [cxBlend](https://deap.readthedocs.io/en/master/api/tools.html#deap.tools.cxBlend) crossover operation for continuous optimization, along with [cxUniform](https://deap.readthedocs.io/en/master/api/tools.html#deap.tools.cxUniform) to be used both in continuous and discrete optimization processes. It's worth noting that these two variants are provided for cases in which immovable traps exist, if no fixed traps are present in the landscape any of the  [DEAP's](https://deap.readthedocs.io/en/master/api/tools.html#operators-1) crossover operators can be used.\n",
    "\n",
    "![](../../media/crossover.png)"
   ]
  },
  {
   "cell_type": "code",
   "execution_count": 4,
   "metadata": {
    "execution": {
     "iopub.execute_input": "2023-07-12T18:27:00.681075Z",
     "iopub.status.busy": "2023-07-12T18:27:00.680989Z",
     "iopub.status.idle": "2023-07-12T18:27:00.684566Z",
     "shell.execute_reply": "2023-07-12T18:27:00.684277Z"
    }
   },
   "outputs": [
    {
     "data": {
      "text/plain": [
       "(array([ -7.00226225,  11.15196959,  14.8288764 ,  -0.57457395,\n",
       "         -4.388176  , -18.39214059]),\n",
       " array([ 19.91081288,  11.15196959,  15.57128578,  -0.57457395,\n",
       "         -4.388176  , -18.39214059]))"
      ]
     },
     "execution_count": 4,
     "metadata": {},
     "output_type": "execute_result"
    }
   ],
   "source": [
    "fxdTrapsMask = srv.genFixedTrapsMask(lnd.trapsFixed)\n",
    "(chA, chB) = [\n",
    "    srv.initChromosome(lnd.trapsCoords, fxdTrapsMask, lnd.getBoundingBox()) \n",
    "    for _ in range(2)\n",
    "]\n",
    "(pre1, pre2) = (chA.copy(), chB.copy())\n",
    "(ind1, ind2) = srv.cxBlend(chA, chB, [True, False, True, False, False, False], alpha=0.5)\n",
    "(ind1, pre1)"
   ]
  },
  {
   "attachments": {},
   "cell_type": "markdown",
   "metadata": {},
   "source": [
    "### Mutation\n",
    "\n",
    "The final step in our evolutionary process is to allow the alleles of selected individuals in our population to \"mutate\" as to allow for new possible solutions to be generated. Our base MGSurvE implementation provides extensions to the [mutGaussian](https://deap.readthedocs.io/en/master/api/tools.html#deap.tools.mutGaussian) operator for continuous optimization operations along with a random uniform allele replacement one for discrete tasks. Same as with the crossover operation, these extensions are provided for cases in which immovable traps exist, if no fixed traps are present in our landscape we can use any of the available [DEAP](https://deap.readthedocs.io/en/master/api/tools.html#operators-1) mutation operations.\n",
    "\n",
    "![](../../media/mutation.png)"
   ]
  },
  {
   "cell_type": "code",
   "execution_count": 5,
   "metadata": {
    "execution": {
     "iopub.execute_input": "2023-07-12T18:27:00.686097Z",
     "iopub.status.busy": "2023-07-12T18:27:00.686007Z",
     "iopub.status.idle": "2023-07-12T18:27:00.689157Z",
     "shell.execute_reply": "2023-07-12T18:27:00.688862Z"
    }
   },
   "outputs": [
    {
     "data": {
      "text/plain": [
       "(array([ 19.65827408,  -6.59456511, -17.97169867, -11.32339252,\n",
       "         -7.32955907,   2.11126806]),\n",
       " array([ 20.79422877,  -5.9025528 , -19.41084821, -11.32339252,\n",
       "         -7.32955907,   2.11126806]))"
      ]
     },
     "execution_count": 5,
     "metadata": {},
     "output_type": "execute_result"
    }
   ],
   "source": [
    "fxdTrapsMask = srv.genFixedTrapsMask(lnd.trapsFixed)\n",
    "chA = srv.initChromosome(lnd.trapsCoords, fxdTrapsMask, lnd.getBoundingBox())\n",
    "mutChrom = deepcopy(chA)\n",
    "srv.mutateChromosome(\n",
    "    mutChrom, [True, True, True, False, False, False], \n",
    "    randArgs={'loc': 0, 'scale': 1}, indpb=1\n",
    ")\n",
    "(chA, mutChrom)"
   ]
  },
  {
   "attachments": {},
   "cell_type": "markdown",
   "metadata": {},
   "source": [
    "<hr>\n",
    "\n",
    "# More Information\n",
    "\n",
    "* [Holland's original paper](https://link.springer.com/chapter/10.1007/978-1-4684-8941-5_21)\n",
    "* [DEAP's documentation](https://deap.readthedocs.io/en/master/)\n",
    "* [Fahmi Nurfikri's illustrated tutorial](https://towardsdatascience.com/an-illustrated-guide-to-genetic-algorithm-ec5615c9ebe)\n",
    "* [MGSurvE's Webinar \"Mathematical Formulation\"](../more/math.ipynb)\n",
    "* [MGSurvE's preprint](https://www.biorxiv.org/content/10.1101/2023.06.26.546301v1)"
   ]
  },
  {
   "cell_type": "markdown",
   "metadata": {},
   "source": []
  }
 ],
 "metadata": {
  "kernelspec": {
   "display_name": "MGSurvE",
   "language": "python",
   "name": "python3"
  },
  "language_info": {
   "codemirror_mode": {
    "name": "ipython",
    "version": 3
   },
   "file_extension": ".py",
   "mimetype": "text/x-python",
   "name": "python",
   "nbconvert_exporter": "python",
   "pygments_lexer": "ipython3",
   "version": "3.10.11"
  }
 },
 "nbformat": 4,
 "nbformat_minor": 2
}
