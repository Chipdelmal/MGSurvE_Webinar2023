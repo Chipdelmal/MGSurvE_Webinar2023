{
 "cells": [
  {
   "cell_type": "markdown",
   "metadata": {},
   "source": [
    "# Open Street Map"
   ]
  },
  {
   "cell_type": "markdown",
   "metadata": {},
   "source": [
    "By making use of the [OSMnx](https://osmnx.readthedocs.io/en/stable/) library we can fetch [OpenStreetMap](https://www.openstreetmap.org/) data and use it in [MGSurvE](https://github.com/Chipdelmal/MGSurvE)! This time, we will start by loading the library and setting up some of its internal parameters:"
   ]
  },
  {
   "cell_type": "code",
   "execution_count": null,
   "metadata": {
    "execution": {
     "iopub.execute_input": "2023-07-31T21:51:44.586133Z",
     "iopub.status.busy": "2023-07-31T21:51:44.585994Z",
     "iopub.status.idle": "2023-07-31T21:52:01.075704Z",
     "shell.execute_reply": "2023-07-31T21:52:01.075204Z"
    }
   },
   "outputs": [],
   "source": [
    "# Fix PROJ path ---------------------------------------------------------------\n",
    "import os; \n",
    "os.environ['PROJ_LIB']=r'/opt/conda/pkgs/proj-9.2.1-ha5fc9e9_0/share/proj'\n",
    "import warnings\n",
    "warnings.simplefilter(\"ignore\")\n",
    "warnings.filterwarnings(\"ignore\", category=DeprecationWarning)\n",
    "warnings.filterwarnings(\"ignore\", category=RuntimeWarning)\n",
    "# Load libraries --------------------------------------------------------------\n",
    "import osmnx as ox\n",
    "import numpy as np\n",
    "import pandas as pd\n",
    "from math import exp\n",
    "from copy import deepcopy\n",
    "import cartopy.crs as ccrs\n",
    "import matplotlib.pyplot as plt\n",
    "from sklearn.preprocessing import normalize\n",
    "import MGSurvE as srv\n",
    "ox.settings.log_console=False\n",
    "ox.settings.use_cache=True\n",
    "# Setup data path and ID ------------------------------------------------------\n",
    "(ID, OUT_PTH) = ('Banfora', './out/')\n",
    "srv.makeFolder(OUT_PTH)"
   ]
  },
  {
   "cell_type": "markdown",
   "metadata": {},
   "source": [
    "## Downloading Buildings Footprints\n",
    "\n",
    "In this example, we will download the data of a section of Banfora, Burkina Faso. To do this, we will center our reference point at the `(10.63524, -4.75195)` coordinates and set an altitude of `250` meters:"
   ]
  },
  {
   "cell_type": "code",
   "execution_count": null,
   "metadata": {
    "execution": {
     "iopub.execute_input": "2023-07-31T21:52:01.078839Z",
     "iopub.status.busy": "2023-07-31T21:52:01.078476Z",
     "iopub.status.idle": "2023-07-31T21:52:02.502792Z",
     "shell.execute_reply": "2023-07-31T21:52:02.502474Z"
    }
   },
   "outputs": [],
   "source": [
    "(COORDS, DIST) = ((10.63524, -4.75195), 250)\n",
    "# Scrape building footprints to dataframe -------------------------------------\n",
    "BLD = ox.features.features_from_point(\n",
    "    COORDS, tags={'building': True} , dist=DIST\n",
    ")\n",
    "NTW = ox.graph_from_point(\n",
    "    COORDS, dist=DIST, network_type='all',\n",
    "    retain_all=True, simplify=True, truncate_by_edge=True\n",
    ")\n",
    "# Extend the original dataframe to contain the centroids of geometries --------\n",
    "BLD['centroid_lon'] = [poly.centroid.x for poly in BLD['geometry']]\n",
    "BLD['centroid_lat'] = [poly.centroid.y for poly in BLD['geometry']]\n",
    "BLD.reset_index(inplace=True)"
   ]
  },
  {
   "cell_type": "markdown",
   "metadata": {},
   "source": [
    "The `BLD` dataframe contains all the information we need to generate a map of the location and we can, additionally, plot the roads by projecting the `NTW` graph:"
   ]
  },
  {
   "cell_type": "code",
   "execution_count": null,
   "metadata": {
    "execution": {
     "iopub.execute_input": "2023-07-31T21:52:02.520464Z",
     "iopub.status.busy": "2023-07-31T21:52:02.520341Z",
     "iopub.status.idle": "2023-07-31T21:52:02.708143Z",
     "shell.execute_reply": "2023-07-31T21:52:02.707805Z"
    }
   },
   "outputs": [],
   "source": [
    "STYLE_BG = {'color': '#0b2545'}\n",
    "STYLE_BD = {'color': '#faf9f9', 'alpha': 0.900}\n",
    "STYLE_RD = {'color': '#ede0d4', 'alpha': 0.125, 'width': 1.5}\n",
    "# Project and plot map --------------------------------------------------------\n",
    "G = ox.project_graph(NTW, to_crs=ccrs.PlateCarree())\n",
    "(fig, ax) = ox.plot_graph(\n",
    "    G, node_size=0, figsize=(10, 100), show=False,\n",
    "    bgcolor=STYLE_BG['color'], edge_color=STYLE_RD['color'], \n",
    "    edge_alpha=STYLE_RD['alpha'], edge_linewidth=STYLE_RD['width']\n",
    ")\n",
    "(fig, ax) = ox.plot_footprints(\n",
    "    BLD, ax=ax, save=False, show=False, close=False,\n",
    "    bgcolor=STYLE_BG['color'], color=STYLE_BD['color'], \n",
    "    alpha=STYLE_BD['alpha']\n",
    ")"
   ]
  },
  {
   "cell_type": "markdown",
   "metadata": {},
   "source": [
    "## Generating MGSurvE Landscape\n",
    "\n",
    "If we wanted to make use of our data in [MGSurvE](https://github.com/Chipdelmal/MGSurvE), one simple way we can go about it is by using the `centroid_lon` and `centroid_lat` to generate our migration matrix and landscape:"
   ]
  },
  {
   "cell_type": "code",
   "execution_count": null,
   "metadata": {
    "execution": {
     "iopub.execute_input": "2023-07-31T21:52:02.710871Z",
     "iopub.status.busy": "2023-07-31T21:52:02.710783Z",
     "iopub.status.idle": "2023-07-31T21:52:03.487318Z",
     "shell.execute_reply": "2023-07-31T21:52:03.486873Z"
    }
   },
   "outputs": [],
   "source": [
    "lonLats = np.array(list(zip(BLD['centroid_lon'], BLD['centroid_lat'])))\n",
    "migDst = srv.calcDistanceMatrix(lonLats, distFun=srv.haversineDistance)"
   ]
  },
  {
   "cell_type": "markdown",
   "metadata": {},
   "source": [
    "This time, we will define a custom exponential kernel. To do this we just need to define a function that takes the distance matrix as an argument, applies a function upon it based on the distance between every pair-wise combination of points (an exponential decay one, in this case), and returns a row-normalized migration probability matrix:"
   ]
  },
  {
   "cell_type": "code",
   "execution_count": null,
   "metadata": {
    "execution": {
     "iopub.execute_input": "2023-07-31T21:52:03.489149Z",
     "iopub.status.busy": "2023-07-31T21:52:03.489036Z",
     "iopub.status.idle": "2023-07-31T21:52:03.806812Z",
     "shell.execute_reply": "2023-07-31T21:52:03.806507Z"
    }
   },
   "outputs": [],
   "source": [
    "# Defining our custom migration kernel ----------------------------------------\n",
    "def exponentialKernel(distMat, decay):\n",
    "    coordsNum = len(distMat)\n",
    "    migrMat = np.empty((coordsNum, coordsNum))\n",
    "    for (i, row) in enumerate(distMat):\n",
    "        for (j, dst) in enumerate(row):\n",
    "            migrMat[i][j] = exp(-decay*dst)\n",
    "        for j in range(len(row)):\n",
    "            if np.isnan(migrMat[i][j]):\n",
    "                migrMat[i][j] = 0\n",
    "    tauN = normalize(migrMat, axis=1, norm='l1')\n",
    "    return np.array(tauN)\n",
    "# Calculating the full migration matrix ---------------------------------------\n",
    "MEAN_LIFETIME_DISPERSAL = 25\n",
    "migMat = exponentialKernel(migDst, 1/MEAN_LIFETIME_DISPERSAL)"
   ]
  },
  {
   "cell_type": "markdown",
   "metadata": {},
   "source": [
    "We now generate our sites dataframe:"
   ]
  },
  {
   "cell_type": "code",
   "execution_count": null,
   "metadata": {
    "execution": {
     "iopub.execute_input": "2023-07-31T21:52:03.808494Z",
     "iopub.status.busy": "2023-07-31T21:52:03.808413Z",
     "iopub.status.idle": "2023-07-31T21:52:03.811157Z",
     "shell.execute_reply": "2023-07-31T21:52:03.810883Z"
    }
   },
   "outputs": [],
   "source": [
    "# Generate sites dataframe ----------------------------------------------------\n",
    "sites = pd.DataFrame(lonLats, columns=['lon', 'lat'])\n",
    "sites['t'] = [0]*sites.shape[0]\n",
    "# Get the bounding box and centroid -------------------------------------------\n",
    "BBOX = (\n",
    "    (min(sites['lon']), max(sites['lon'])),\n",
    "    (min(sites['lat']), max(sites['lat']))\n",
    ")\n",
    "CNTR = [i[0]+(i[1]-i[0])/2 for i in BBOX]"
   ]
  },
  {
   "cell_type": "markdown",
   "metadata": {},
   "source": [
    "And define the traps we want to optimize:"
   ]
  },
  {
   "cell_type": "code",
   "execution_count": null,
   "metadata": {
    "execution": {
     "iopub.execute_input": "2023-07-31T21:52:03.812536Z",
     "iopub.status.busy": "2023-07-31T21:52:03.812449Z",
     "iopub.status.idle": "2023-07-31T21:52:03.814761Z",
     "shell.execute_reply": "2023-07-31T21:52:03.814509Z"
    }
   },
   "outputs": [],
   "source": [
    "TRPS_NUM = 5\n",
    "(initLon, initLat) = (\n",
    "    sites.iloc[0]['lon']*TRPS_NUM, \n",
    "    sites.iloc[0]['lat']*TRPS_NUM\n",
    ")\n",
    "sid = [0]*TRPS_NUM\n",
    "traps = pd.DataFrame({\n",
    "    'sid': sid, 'lon': initLon, 'lat': initLat, \n",
    "    't': [0]*TRPS_NUM, 'f': [0]*TRPS_NUM\n",
    "})\n",
    "tKer = {0: {'kernel': srv.exponentialDecay, 'params': {'A': 0.5, 'b': 0.041674}}}"
   ]
  },
  {
   "cell_type": "markdown",
   "metadata": {},
   "source": [
    "With these pieces in place, we can now define our landscape object:"
   ]
  },
  {
   "cell_type": "code",
   "execution_count": null,
   "metadata": {
    "execution": {
     "iopub.execute_input": "2023-07-31T21:52:03.816128Z",
     "iopub.status.busy": "2023-07-31T21:52:03.816045Z",
     "iopub.status.idle": "2023-07-31T21:52:04.533990Z",
     "shell.execute_reply": "2023-07-31T21:52:04.533661Z"
    }
   },
   "outputs": [],
   "source": [
    "lnd = srv.Landscape(\n",
    "    sites, \n",
    "    migrationMatrix=migMat, kernelFunction=exponentialKernel, \n",
    "    distanceFunction=srv.haversineDistance,\n",
    "    kernelParams={'decay': 1/MEAN_LIFETIME_DISPERSAL},\n",
    "    traps=traps, trapsKernels=tKer, trapsRadii=[0.250, 0.125, 0.100],\n",
    "    landLimits=BBOX\n",
    ")\n",
    "bbox = lnd.getBoundingBox()\n",
    "trpMsk = srv.genFixedTrapsMask(lnd.trapsFixed)"
   ]
  },
  {
   "cell_type": "markdown",
   "metadata": {},
   "source": [
    "## Optimizing "
   ]
  },
  {
   "cell_type": "markdown",
   "metadata": {},
   "source": [
    "We will run discrete optimization upon our landscape as follows:"
   ]
  },
  {
   "cell_type": "code",
   "execution_count": null,
   "metadata": {
    "execution": {
     "iopub.execute_input": "2023-07-31T21:52:04.535678Z",
     "iopub.status.busy": "2023-07-31T21:52:04.535575Z",
     "iopub.status.idle": "2023-07-31T21:55:46.102568Z",
     "shell.execute_reply": "2023-07-31T21:55:46.102235Z"
    }
   },
   "outputs": [],
   "source": [
    "GENS = 200\n",
    "VERBOSE = True\n",
    "POP_SIZE = int(10*(lnd.trapsNumber*1.5))\n",
    "(MAT, MUT, SEL) = (\n",
    "    {'cxpb':  0.300, 'indpb': 0.35}, \n",
    "    {'mutpb': 0.375, 'indpb': 0.50},\n",
    "    {'tSize': 3}\n",
    ")\n",
    "lndGA = deepcopy(lnd)\n",
    "# Running GA and exporting results --------------------------------------------\n",
    "(lndDO, logbookDO) = srv.optimizeDiscreteTrapsGA(\n",
    "    lndGA, pop_size=POP_SIZE, generations=GENS, verbose=VERBOSE,\n",
    "    mating_params=MAT, mutation_params=MUT, selection_params=SEL,\n",
    "    fitFuns={'inner': np.sum, 'outer': np.mean}\n",
    ")\n",
    "srv.exportLog(logbookDO, OUT_PTH, '{}_LOG_DO'.format(ID))\n",
    "srv.dumpLandscape(lndDO, OUT_PTH, '{}_LND_DO'.format(ID), fExt='pkl')"
   ]
  },
  {
   "cell_type": "markdown",
   "metadata": {},
   "source": [
    "And plot our results!"
   ]
  },
  {
   "cell_type": "code",
   "execution_count": null,
   "metadata": {
    "execution": {
     "iopub.execute_input": "2023-07-31T21:55:46.104161Z",
     "iopub.status.busy": "2023-07-31T21:55:46.104041Z",
     "iopub.status.idle": "2023-07-31T21:55:46.395194Z",
     "shell.execute_reply": "2023-07-31T21:55:46.394899Z"
    }
   },
   "outputs": [],
   "source": [
    "(fig, ax) = (\n",
    "    plt.figure(figsize=(10, 10), facecolor=STYLE_BG['color']), \n",
    "    plt.axes(projection=ccrs.PlateCarree())\n",
    ")\n",
    "G = ox.project_graph(NTW, to_crs=ccrs.PlateCarree())\n",
    "(fig, ax) = ox.plot_graph(\n",
    "    G, ax, node_size=0, figsize=(40, 40), show=False,\n",
    "    bgcolor=STYLE_BG['color'], edge_color=STYLE_RD['color'], \n",
    "    edge_alpha=STYLE_RD['alpha'], edge_linewidth=STYLE_RD['width']\n",
    ")\n",
    "(fig, ax) = ox.plot_footprints(\n",
    "    BLD, ax=ax, save=False, show=False, close=False,\n",
    "    bgcolor=STYLE_BG['color'], color=STYLE_BD['color'], \n",
    "    alpha=STYLE_BD['alpha']\n",
    ")\n",
    "lndDO.plotTraps(\n",
    "    fig, ax, \n",
    "    size=500, zorders=(30, 25), transparencyHex='99', \n",
    "    proj=ccrs.PlateCarree()\n",
    ")\n",
    "srv.plotClean(fig, ax, bbox=BBOX)\n",
    "ax.set_facecolor(STYLE_BG['color'])\n",
    "fig.savefig(\n",
    "    os.path.join(OUT_PTH, '{}DO.png'.format(ID)), \n",
    "    facecolor='w', bbox_inches='tight', pad_inches=0.1, dpi=150\n",
    ")"
   ]
  },
  {
   "cell_type": "markdown",
   "metadata": {},
   "source": [
    "Running the continuous case is also easy!"
   ]
  },
  {
   "cell_type": "code",
   "execution_count": null,
   "metadata": {},
   "outputs": [],
   "source": [
    "# Optimize the continuous landscape -------------------------------------------\n",
    "(lndCO, logbookCO) = srv.optimizeTrapsGA(\n",
    "    lndGA, \n",
    "    pop_size='auto', generations=GENS,\n",
    "    mating_params='auto', mutation_params='auto', selection_params='auto',\n",
    "    fitFuns={'inner': np.sum, 'outer': np.mean}, verbose=VERBOSE\n",
    ")\n",
    "srv.exportLog(logbookCO, OUT_PTH, '{}_LOG_CO'.format(ID))\n",
    "srv.dumpLandscape(lndCO, OUT_PTH, '{}_LND_CO'.format(ID), fExt='pkl')\n",
    "# Plot the results ------------------------------------------------------------\n",
    "(fig, ax) = (\n",
    "    plt.figure(figsize=(10, 10), facecolor=STYLE_BG['color']), \n",
    "    plt.axes(projection=ccrs.PlateCarree())\n",
    ")\n",
    "G = ox.project_graph(NTW, to_crs=ccrs.PlateCarree())\n",
    "(fig, ax) = ox.plot_graph(\n",
    "    G, ax, node_size=0, figsize=(40, 40), show=False,\n",
    "    bgcolor=STYLE_BG['color'], edge_color=STYLE_RD['color'], \n",
    "    edge_alpha=STYLE_RD['alpha'], edge_linewidth=STYLE_RD['width']\n",
    ")\n",
    "(fig, ax) = ox.plot_footprints(\n",
    "    BLD, ax=ax, save=False, show=False, close=False,\n",
    "    bgcolor=STYLE_BG['color'], color=STYLE_BD['color'], \n",
    "    alpha=STYLE_BD['alpha']\n",
    ")\n",
    "lndDO.plotTraps(\n",
    "    fig, ax, \n",
    "    size=500, zorders=(30, 25), transparencyHex='99', \n",
    "    proj=ccrs.PlateCarree()\n",
    ")\n",
    "srv.plotClean(fig, ax, bbox=BBOX)\n",
    "ax.set_facecolor(STYLE_BG['color'])\n",
    "fig.savefig(\n",
    "    os.path.join(OUT_PTH, '{}CO.png'.format(ID)), \n",
    "    facecolor='w', bbox_inches='tight', pad_inches=0.1, dpi=150\n",
    ")"
   ]
  },
  {
   "cell_type": "markdown",
   "metadata": {},
   "source": [
    "<hr>\n",
    "\n",
    "# More Information\n",
    "\n",
    "* [OSMnx Documentation](https://osmnx.readthedocs.io/)\n",
    "* [OpenStreetMap](https://www.openstreetmap.org)\n"
   ]
  },
  {
   "cell_type": "markdown",
   "metadata": {},
   "source": []
  }
 ],
 "metadata": {
  "kernelspec": {
   "display_name": "MGSurvE",
   "language": "python",
   "name": "python3"
  },
  "language_info": {
   "codemirror_mode": {
    "name": "ipython",
    "version": 3
   },
   "file_extension": ".py",
   "mimetype": "text/x-python",
   "name": "python",
   "nbconvert_exporter": "python",
   "pygments_lexer": "ipython3",
   "version": "3.10.12"
  }
 },
 "nbformat": 4,
 "nbformat_minor": 2
}
