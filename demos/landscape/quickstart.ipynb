{
 "cells": [
  {
   "attachments": {},
   "cell_type": "markdown",
   "metadata": {},
   "source": [
    "# Landscape Setup"
   ]
  },
  {
   "attachments": {},
   "cell_type": "markdown",
   "metadata": {},
   "source": [
    "In this demo, we will generate a landscape on a ring Euclidean geometry and optimize it over a continuous space."
   ]
  },
  {
   "attachments": {},
   "cell_type": "markdown",
   "metadata": {},
   "source": [
    "## Loading Libraries and Paths"
   ]
  },
  {
   "cell_type": "code",
   "execution_count": 6,
   "metadata": {},
   "outputs": [],
   "source": [
    "# Fix PROJ path\n",
    "import os; os.environ['PROJ_LIB']='/path/to/env/share/proj'\n",
    "import numpy as np\n",
    "import pandas as pd\n",
    "import matplotlib.pyplot as plt\n",
    "import MGSurvE as srv\n",
    "%matplotlib inline\n",
    "# Setup path and ID\n",
    "(ID, OUT_PTH) = ('landscape_setup', '../out/')\n",
    "srv.makeFolder(OUT_PTH)"
   ]
  },
  {
   "attachments": {},
   "cell_type": "markdown",
   "metadata": {},
   "source": [
    "## Dwells and Traps"
   ]
  },
  {
   "attachments": {},
   "cell_type": "markdown",
   "metadata": {},
   "source": [
    "The two main elements in our MGSurvE landscapes are traps and dwells. In this example, we will lay down mosquito habitats in a ring with given inner and outer radii, then optimize the position of two different types of traps simultaneously."
   ]
  },
  {
   "attachments": {},
   "cell_type": "markdown",
   "metadata": {},
   "source": [
    "### Habitats"
   ]
  },
  {
   "attachments": {},
   "cell_type": "markdown",
   "metadata": {},
   "source": [
    "To lay down our habitats in a Euclidean space we need to generate a pandas dataframe with three columns: \n",
    "* `'x'`: list of point coordinates along our first axis\n",
    "* `'y'`: list of point coordinates along our second axis\n",
    "* `'t'`: dwell type (all set to `0` for this example)"
   ]
  },
  {
   "cell_type": "code",
   "execution_count": 2,
   "metadata": {},
   "outputs": [],
   "source": [
    "PTS_NUM = 150\n",
    "RADII = (75, 100)\n",
    "# Generate pointset\n",
    "xy = srv.ptsDonut(PTS_NUM, RADII).T\n",
    "# Re-shape pointset into dataframe\n",
    "points = pd.DataFrame({\n",
    "    'x': xy[0], 'y': xy[1], \n",
    "    't': [0]*len(xy[0])\n",
    "})"
   ]
  },
  {
   "attachments": {},
   "cell_type": "markdown",
   "metadata": {},
   "source": [
    "### Traps"
   ]
  },
  {
   "attachments": {},
   "cell_type": "markdown",
   "metadata": {},
   "source": [
    "For our traps we also need a pandas dataframe, this time containing the following columns:\n",
    "* `'x'`: list of point coordinates along our first axis (for continuous optimization)\n",
    "* `'y'`: list of point coordinates along our second axis (for continuous optimization)\n",
    "* `'sid'`: id of the dwell in which the trap is located (for discrete optimization)\n",
    "* `'t'`: trap type kernel id (as set in trap kernel dictionary)\n",
    "* `'f'`: boolean to mark a trap as immovable (`False` or `0` leaves the trap as optimizable)"
   ]
  },
  {
   "cell_type": "code",
   "execution_count": 3,
   "metadata": {},
   "outputs": [],
   "source": [
    "nullTraps = [0, 0, 0, 0]\n",
    "traps = pd.DataFrame({\n",
    "    'x': nullTraps, 'y': nullTraps, 'sid': nullTraps,\n",
    "    't': [0, 0, 1, 1], \n",
    "    'f': [0, 0, 0, 0]\n",
    "})"
   ]
  },
  {
   "attachments": {},
   "cell_type": "markdown",
   "metadata": {},
   "source": [
    "Additionally, we need to define the attractiveness profile of our trap types in a dictionary in which the keys must match the types used in the `'t'` column of our dataframe. "
   ]
  },
  {
   "cell_type": "code",
   "execution_count": 5,
   "metadata": {},
   "outputs": [],
   "source": [
    "tKer = {\n",
    "    0: {'kernel': srv.exponentialDecay, 'params': {'A': .5, 'b': .1}},\n",
    "    1: {'kernel': srv.exponentialDecay, 'params': {'A': .5, 'b': .125}}\n",
    "}"
   ]
  },
  {
   "attachments": {},
   "cell_type": "markdown",
   "metadata": {},
   "source": [
    "## Landscape"
   ]
  },
  {
   "attachments": {},
   "cell_type": "markdown",
   "metadata": {},
   "source": [
    "### Mosquito Movement"
   ]
  },
  {
   "cell_type": "code",
   "execution_count": 8,
   "metadata": {},
   "outputs": [],
   "source": [
    "mKer = {\n",
    "    'params': srv.MEDIUM_MOV_EXP_PARAMS, \n",
    "    'zeroInflation': .25\n",
    "} "
   ]
  },
  {
   "cell_type": "code",
   "execution_count": 9,
   "metadata": {},
   "outputs": [],
   "source": [
    "lnd = srv.Landscape(\n",
    "    points, \n",
    "    kernelParams=mKer,\n",
    "    traps=traps, trapsKernels=tKer\n",
    ")"
   ]
  },
  {
   "cell_type": "code",
   "execution_count": 11,
   "metadata": {},
   "outputs": [],
   "source": [
    "(fig, ax) = plt.subplots(1, 1, figsize=(5, 5), sharey=False)\n",
    "lnd.plotSites(fig, ax, size=100)\n",
    "lnd.plotMaskedMigrationNetwork(fig, ax, alphaMin=.6, lineWidth=25)\n",
    "srv.plotClean(fig, ax, frame=False)"
   ]
  },
  {
   "attachments": {},
   "cell_type": "markdown",
   "metadata": {},
   "source": [
    "## Quick Optimization"
   ]
  },
  {
   "cell_type": "code",
   "execution_count": null,
   "metadata": {},
   "outputs": [],
   "source": [
    "GENS = 500\n",
    "(lnd, logbook) = srv.optimizeTrapsGA(\n",
    "    lnd, generations=GENS, \n",
    "    pop_size='auto', mating_params='auto', \n",
    "    mutation_params='auto', selection_params='auto',\n",
    ")"
   ]
  },
  {
   "cell_type": "code",
   "execution_count": null,
   "metadata": {},
   "outputs": [],
   "source": [
    "(fig, ax) = plt.subplots(1, 1, figsize=(15, 15), sharey=False)\n",
    "lnd.plotSites(fig, ax, size=100)\n",
    "# lnd.plotMaskedMigrationNetwork(fig, ax, alphaMin=.6, lineWidth=25)\n",
    "lnd.plotTraps(fig, ax)\n",
    "srv.plotClean(fig, ax, frame=False)\n",
    "srv.plotFitness(fig, ax, min(logbook['min']))"
   ]
  },
  {
   "cell_type": "code",
   "execution_count": null,
   "metadata": {},
   "outputs": [],
   "source": []
  }
 ],
 "metadata": {
  "kernelspec": {
   "display_name": "MGSurvE",
   "language": "python",
   "name": "python3"
  },
  "language_info": {
   "codemirror_mode": {
    "name": "ipython",
    "version": 3
   },
   "file_extension": ".py",
   "mimetype": "text/x-python",
   "name": "python",
   "nbconvert_exporter": "python",
   "pygments_lexer": "ipython3",
   "version": "3.10.11"
  },
  "orig_nbformat": 4
 },
 "nbformat": 4,
 "nbformat_minor": 2
}
