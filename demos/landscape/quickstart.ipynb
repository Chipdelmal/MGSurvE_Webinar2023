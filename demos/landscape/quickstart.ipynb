{
 "cells": [
  {
   "attachments": {},
   "cell_type": "markdown",
   "metadata": {},
   "source": [
    "# Landscape Setup"
   ]
  },
  {
   "attachments": {},
   "cell_type": "markdown",
   "metadata": {},
   "source": [
    "In this demo, we will generate a landscape on Euclidean geometry."
   ]
  },
  {
   "attachments": {},
   "cell_type": "markdown",
   "metadata": {},
   "source": [
    "## Loading Libraries"
   ]
  },
  {
   "cell_type": "code",
   "execution_count": null,
   "metadata": {},
   "outputs": [],
   "source": [
    "import os; os.environ['PROJ_LIB']='/path/to/env/share/proj'\n",
    "from copy import deepcopy\n",
    "import numpy as np\n",
    "import pandas as pd\n",
    "import matplotlib.pyplot as plt\n",
    "import MGSurvE as srv\n",
    "%matplotlib inline\n",
    "###############################################################################\n",
    "# Setup path and ID\n",
    "###############################################################################\n",
    "(ID, OUT_PTH) = ('landscape_setup', '../out/')\n",
    "srv.makeFolder(OUT_PTH)"
   ]
  },
  {
   "attachments": {},
   "cell_type": "markdown",
   "metadata": {},
   "source": [
    "## Habitats and Traps"
   ]
  },
  {
   "attachments": {},
   "cell_type": "markdown",
   "metadata": {},
   "source": [
    "### Habitats"
   ]
  },
  {
   "cell_type": "code",
   "execution_count": null,
   "metadata": {},
   "outputs": [],
   "source": [
    "PTS_NUM = 150\n",
    "RADII = (75, 100)\n",
    "\n",
    "xy = srv.ptsDonut(PTS_NUM, RADII).T\n",
    "pType = np.random.choice(1, xy.shape[1])\n",
    "points = pd.DataFrame({'x': xy[0], 'y': xy[1], 't': pType})"
   ]
  },
  {
   "attachments": {},
   "cell_type": "markdown",
   "metadata": {},
   "source": [
    "### Traps"
   ]
  },
  {
   "cell_type": "code",
   "execution_count": null,
   "metadata": {},
   "outputs": [],
   "source": [
    "nullTraps = [0, 0, 0, 0, 0]\n",
    "traps = pd.DataFrame({\n",
    "    'x': nullTraps, 'y': nullTraps, 'sid': nullTraps,\n",
    "    't': [0, 0, 0, 1, 1], \n",
    "    'f': [0, 0, 0, 0, 0]\n",
    "})\n",
    "tKer = {\n",
    "    0: {'kernel': srv.exponentialDecay, 'params': {'A': .5, 'b': .1}},\n",
    "    1: {'kernel': srv.exponentialDecay, 'params': {'A': .5, 'b': .125}}\n",
    "}"
   ]
  },
  {
   "attachments": {},
   "cell_type": "markdown",
   "metadata": {},
   "source": [
    "## Landscape"
   ]
  },
  {
   "cell_type": "code",
   "execution_count": null,
   "metadata": {},
   "outputs": [],
   "source": [
    "lnd = srv.Landscape(\n",
    "    points, \n",
    "    kernelParams={\n",
    "        'params': srv.MEDIUM_MOV_EXP_PARAMS, \n",
    "        'zeroInflation': .25\n",
    "    }, \n",
    "    traps=traps, trapsKernels=tKer\n",
    ")"
   ]
  },
  {
   "cell_type": "code",
   "execution_count": null,
   "metadata": {},
   "outputs": [],
   "source": [
    "(fig, ax) = plt.subplots(1, 1, figsize=(15, 15), sharey=False)\n",
    "lnd.plotSites(fig, ax, size=100)\n",
    "# lnd.plotMaskedMigrationNetwork(fig, ax, alphaMin=.6, lineWidth=25)\n",
    "srv.plotClean(fig, ax, frame=False)"
   ]
  },
  {
   "attachments": {},
   "cell_type": "markdown",
   "metadata": {},
   "source": [
    "## Quick Optimization"
   ]
  },
  {
   "cell_type": "code",
   "execution_count": null,
   "metadata": {},
   "outputs": [],
   "source": [
    "GENS = 500\n",
    "(lnd, logbook) = srv.optimizeTrapsGA(\n",
    "    lnd, generations=GENS, \n",
    "    pop_size='auto', mating_params='auto', \n",
    "    mutation_params='auto', selection_params='auto',\n",
    ")"
   ]
  },
  {
   "cell_type": "code",
   "execution_count": null,
   "metadata": {},
   "outputs": [],
   "source": [
    "(fig, ax) = plt.subplots(1, 1, figsize=(15, 15), sharey=False)\n",
    "lnd.plotSites(fig, ax, size=100)\n",
    "# lnd.plotMaskedMigrationNetwork(fig, ax, alphaMin=.6, lineWidth=25)\n",
    "lnd.plotTraps(fig, ax)\n",
    "srv.plotClean(fig, ax, frame=False)\n",
    "srv.plotFitness(fig, ax, min(logbook['min']))"
   ]
  },
  {
   "cell_type": "code",
   "execution_count": null,
   "metadata": {},
   "outputs": [],
   "source": []
  }
 ],
 "metadata": {
  "kernelspec": {
   "display_name": "MGSurvE",
   "language": "python",
   "name": "python3"
  },
  "language_info": {
   "codemirror_mode": {
    "name": "ipython",
    "version": 3
   },
   "file_extension": ".py",
   "mimetype": "text/x-python",
   "name": "python",
   "nbconvert_exporter": "python",
   "pygments_lexer": "ipython3",
   "version": "3.10.11"
  },
  "orig_nbformat": 4
 },
 "nbformat": 4,
 "nbformat_minor": 2
}
