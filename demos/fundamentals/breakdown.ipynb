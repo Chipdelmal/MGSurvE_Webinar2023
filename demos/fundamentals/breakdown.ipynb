{
 "cells": [
  {
   "attachments": {},
   "cell_type": "markdown",
   "metadata": {},
   "source": [
    "# General Workflow\n",
    "\n",
    "As we saw in our [first example](./quickstart.ipynb), running MGSurvE involves three main steps which are subdivided in some subtasks."
   ]
  },
  {
   "attachments": {},
   "cell_type": "markdown",
   "metadata": {},
   "source": [
    "![](../../media/stepsAlt.png)\n",
    "\n",
    "1. [Landscape](https://chipdelmal.github.io/MGSurvE/build/html/generated/MGSurvE.landscape.html#module-MGSurvE.landscape)\n",
    "  * Load/[Generate](https://chipdelmal.github.io/MGSurvE/build/html/generated/MGSurvE.pointProcess.html#module-MGSurvE.pointProcess) pointset\n",
    "  * Define mosquito [movement kernel](https://chipdelmal.github.io/MGSurvE/build/html/generated/MGSurvE.kernels.html#module-MGSurvE.kernels)\n",
    "  * Define traps and [attractiveness kernels](https://chipdelmal.github.io/MGSurvE/build/html/generated/MGSurvE.kernels.html#module-MGSurvE.kernels)\n",
    "2. [Optimization](https://chipdelmal.github.io/MGSurvE/build/html/generated/MGSurvE.optimization.html#module-MGSurvE.optimization)\n",
    "  * Select optimization type ([discrete](https://chipdelmal.github.io/MGSurvE/build/html/MGSurvE.html#MGSurvE.optimization.optimizeDiscreteTrapsGA) or [continuous](https://chipdelmal.github.io/MGSurvE/build/html/MGSurvE.html#MGSurvE.optimization.optimizeTrapsGA))\n",
    "  * Select [GA operators](https://chipdelmal.github.io/MGSurvE/build/html/generated/MGSurvE.optimization.html#module-MGSurvE.optimization) (mutation, crossover, selection)\n",
    "  * Select or define [fitness function](https://chipdelmal.github.io/MGSurvE/build/html/generated/MGSurvE.optimization.html#module-MGSurvE.optimization)\n",
    "  * Run the [optimization process](https://chipdelmal.github.io/MGSurvE/build/html/generated/MGSurvE.optimization.html#module-MGSurvE.optimization)\n",
    "3. [Analysis and Verification](https://chipdelmal.github.io/MGSurvE/build/html/api.html#dataviz-point-processes-and-auxiliaries)\n",
    "  * [Export to disk](https://chipdelmal.github.io/MGSurvE/build/html/generated/MGSurvE.auxiliary.html#module-MGSurvE.auxiliary)\n",
    "  * [Plot traps' optimized positions](https://chipdelmal.github.io/MGSurvE/build/html/generated/MGSurvE.plots.html#module-MGSurvE.plots)\n",
    "  * [Check GA's performance](https://chipdelmal.github.io/MGSurvE/build/html/generated/MGSurvE.plots.html#module-MGSurvE.plots)\n",
    "  * Re-run optimization process if necessary\n",
    "\n"
   ]
  },
  {
   "attachments": {},
   "cell_type": "markdown",
   "metadata": {},
   "source": [
    "# More Information"
   ]
  },
  {
   "attachments": {},
   "cell_type": "markdown",
   "metadata": {},
   "source": [
    "* [Quickstart](https://chipdelmal.github.io/MGSurvE/build/html/Quickstart.html)\n",
    "* [Landscape Creation](https://chipdelmal.github.io/MGSurvE/build/html/landscapeCreation.html)\n",
    "* [GA Optimization](https://chipdelmal.github.io/MGSurvE/build/html/GA.html)"
   ]
  },
  {
   "cell_type": "code",
   "execution_count": null,
   "metadata": {
    "vscode": {
     "languageId": "plaintext"
    }
   },
   "outputs": [],
   "source": []
  },
  {
   "attachments": {},
   "cell_type": "markdown",
   "metadata": {},
   "source": []
  }
 ],
 "metadata": {
  "kernelspec": {
   "display_name": "MGSurvE",
   "language": "python",
   "name": "python3"
  },
  "language_info": {
   "codemirror_mode": {
    "name": "ipython",
    "version": 3
   },
   "file_extension": ".py",
   "mimetype": "text/x-python",
   "name": "python",
   "nbconvert_exporter": "python",
   "pygments_lexer": "ipython3",
   "version": "3.10.11"
  },
  "orig_nbformat": 4
 },
 "nbformat": 4,
 "nbformat_minor": 2
}
