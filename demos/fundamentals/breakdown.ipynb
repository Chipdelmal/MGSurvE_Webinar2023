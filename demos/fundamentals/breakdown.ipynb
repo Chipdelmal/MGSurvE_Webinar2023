{
 "cells": [
  {
   "attachments": {},
   "cell_type": "markdown",
   "metadata": {},
   "source": [
    "# General Workflow\n",
    "\n",
    "As we saw in our [first example](./quickstart.ipynb), running MGSurvE involves three main steps: setting up our landscape, running the optimization loop, and doing the data analysis on the results.\n",
    "\n",
    "![](../../media/stepsAlt.png)"
   ]
  },
  {
   "attachments": {},
   "cell_type": "markdown",
   "metadata": {},
   "source": [
    "## [Landscape](https://chipdelmal.github.io/MGSurvE/build/html/generated/MGSurvE.landscape.html#module-MGSurvE.landscape)\n",
    "\n",
    "This structure is coded as a class within the MGSurvE framework and, in its most basic form, upon definition it takes care of preprocessing all the required substructures (the most important being the distance and migration matrices).\n",
    "   \n",
    "  1. Load/[Generate](https://chipdelmal.github.io/MGSurvE/build/html/generated/MGSurvE.pointProcess.html#module-MGSurvE.pointProcess) pointset\n",
    "  2. Define mosquito [movement kernel](https://chipdelmal.github.io/MGSurvE/build/html/generated/MGSurvE.kernels.html#module-MGSurvE.kernels)\n",
    "  3. Define traps, [attractiveness kernels](https://chipdelmal.github.io/MGSurvE/build/html/generated/MGSurvE.kernels.html#module-MGSurvE.kernels) and [type-masking probability matrices](https://chipdelmal.github.io/MGSurvE/build/html/MGSurvE.html#MGSurvE.matrices.calcMaskedMigrationMatrix)\n",
    "\n",
    "We have tried to make the [Landscape](https://chipdelmal.github.io/MGSurvE/build/html/generated/MGSurvE.landscape.html#module-MGSurvE.landscape) class as flexible as possible and as such, there are several alternatives to the most simple cases. Some of these alternatives are:\n",
    "\n",
    "  * Landscapes can be defined as [Euclidean](https://chipdelmal.github.io/MGSurvE/build/html/landscapeCreation.html) (xy) and [spherical](https://chipdelmal.github.io/MGSurvE/build/html/GA_STP.html) (longitude-latitude).\n",
    "  * Various distance functions can be used ([haversine](https://pypi.org/project/haversine/) is used by default on spherical landscapes, but [vincenty](https://pypi.org/project/vincenty/) can also be used).\n",
    "  * Migration matrices can be provided directly to the class (to allow for external computation).\n",
    "  * An attraction vector can be provided to make some sites to be visited more frequently relative to others.\n",
    "  "
   ]
  },
  {
   "attachments": {},
   "cell_type": "markdown",
   "metadata": {},
   "source": [
    "## [Optimization](https://chipdelmal.github.io/MGSurvE/build/html/generated/MGSurvE.optimization.html#module-MGSurvE.optimization)\n",
    "  * Select optimization type ([discrete](https://chipdelmal.github.io/MGSurvE/build/html/MGSurvE.html#MGSurvE.optimization.optimizeDiscreteTrapsGA) or [continuous](https://chipdelmal.github.io/MGSurvE/build/html/MGSurvE.html#MGSurvE.optimization.optimizeTrapsGA))\n",
    "  * Select [GA operators](https://chipdelmal.github.io/MGSurvE/build/html/generated/MGSurvE.optimization.html#module-MGSurvE.optimization) (mutation, crossover, selection)\n",
    "  * Select or define [fitness function](https://chipdelmal.github.io/MGSurvE/build/html/generated/MGSurvE.optimization.html#module-MGSurvE.optimization)\n",
    "  * Run the [optimization process](https://chipdelmal.github.io/MGSurvE/build/html/generated/MGSurvE.optimization.html#module-MGSurvE.optimization)\n"
   ]
  },
  {
   "attachments": {},
   "cell_type": "markdown",
   "metadata": {},
   "source": [
    "## [Analysis and Verification](https://chipdelmal.github.io/MGSurvE/build/html/api.html#dataviz-point-processes-and-auxiliaries)\n",
    "  * [Export to disk](https://chipdelmal.github.io/MGSurvE/build/html/generated/MGSurvE.auxiliary.html#module-MGSurvE.auxiliary)\n",
    "  * [Plot traps' optimized positions](https://chipdelmal.github.io/MGSurvE/build/html/generated/MGSurvE.plots.html#module-MGSurvE.plots)\n",
    "  * [Check GA's performance](https://chipdelmal.github.io/MGSurvE/build/html/generated/MGSurvE.plots.html#module-MGSurvE.plots)\n",
    "  * Re-run [optimization](https://chipdelmal.github.io/MGSurvE/build/html/generated/MGSurvE.optimization.html#module-MGSurvE.optimization) process if necessary\n"
   ]
  },
  {
   "attachments": {},
   "cell_type": "markdown",
   "metadata": {},
   "source": [
    "<hr>\n",
    "\n",
    "# More Information"
   ]
  },
  {
   "attachments": {},
   "cell_type": "markdown",
   "metadata": {},
   "source": [
    "* [Quickstart](https://chipdelmal.github.io/MGSurvE/build/html/Quickstart.html)\n",
    "* [Landscape Creation](https://chipdelmal.github.io/MGSurvE/build/html/landscapeCreation.html)\n",
    "* [GA Optimization](https://chipdelmal.github.io/MGSurvE/build/html/GA.html)"
   ]
  },
  {
   "cell_type": "code",
   "execution_count": null,
   "metadata": {
    "vscode": {
     "languageId": "plaintext"
    }
   },
   "outputs": [],
   "source": []
  },
  {
   "attachments": {},
   "cell_type": "markdown",
   "metadata": {},
   "source": []
  }
 ],
 "metadata": {
  "kernelspec": {
   "display_name": "MGSurvE",
   "language": "python",
   "name": "python3"
  },
  "language_info": {
   "codemirror_mode": {
    "name": "ipython",
    "version": 3
   },
   "file_extension": ".py",
   "mimetype": "text/x-python",
   "name": "python",
   "nbconvert_exporter": "python",
   "pygments_lexer": "ipython3",
   "version": "3.10.11"
  },
  "orig_nbformat": 4
 },
 "nbformat": 4,
 "nbformat_minor": 2
}
