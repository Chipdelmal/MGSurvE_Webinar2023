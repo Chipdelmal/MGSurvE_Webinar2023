{
 "cells": [
  {
   "cell_type": "markdown",
   "metadata": {},
   "source": [
    "# Python Primer (for R programmers)"
   ]
  },
  {
   "cell_type": "markdown",
   "metadata": {},
   "source": [
    "Python is a powerful scripting and development language used in many scientific applications. "
   ]
  },
  {
   "cell_type": "markdown",
   "metadata": {},
   "source": [
    "## Handling Packages"
   ]
  },
  {
   "cell_type": "markdown",
   "metadata": {},
   "source": [
    "### Installation\n",
    "\n",
    "In Python, we usually install packages outside of our applications by running the following command on the terminal:\n",
    "\n",
    "```bash\n",
    "pip install MGSurvE\n",
    "```\n",
    "\n",
    "The use of virtual environments such as venv and conda are strongly suggested to avoid package clashes and python installation paths. If we are working in Jupyter notebooks we can install packages directly in our working environment by running:\n",
    "\n",
    "```bash\n",
    "!pip install MGSurvE\n",
    "```\n",
    "\n",
    "By adding the `!` symbol we are telling the Jupyter notebook to interpret the line as a bash command, rather than a python one."
   ]
  },
  {
   "cell_type": "markdown",
   "metadata": {},
   "source": [
    "### Import\n",
    "\n",
    "To import a package into our running application, we use the `import` command, followed by the package name."
   ]
  },
  {
   "cell_type": "code",
   "execution_count": 6,
   "metadata": {},
   "outputs": [
    {
     "data": {
      "text/plain": [
       "7.0"
      ]
     },
     "execution_count": 6,
     "metadata": {},
     "output_type": "execute_result"
    }
   ],
   "source": [
    "import math\n",
    "math.sqrt(49)"
   ]
  },
  {
   "cell_type": "markdown",
   "metadata": {},
   "source": [
    "To import all the functions and variables we can use:"
   ]
  },
  {
   "cell_type": "code",
   "execution_count": 8,
   "metadata": {},
   "outputs": [
    {
     "data": {
      "text/plain": [
       "7.0"
      ]
     },
     "execution_count": 8,
     "metadata": {},
     "output_type": "execute_result"
    }
   ],
   "source": [
    "from math import *\n",
    "sqrt(49)"
   ]
  },
  {
   "cell_type": "markdown",
   "metadata": {},
   "source": [
    "Which is more similar to what we would use in R. We have to be careful, however, as this can cause problems with clashing functions and variables if different packages use the same names (if two packages, for example, define the `sqrt` function).\n",
    "Another way to import specific functions from a package is:"
   ]
  },
  {
   "cell_type": "code",
   "execution_count": 9,
   "metadata": {},
   "outputs": [
    {
     "data": {
      "text/plain": [
       "7.0"
      ]
     },
     "execution_count": 9,
     "metadata": {},
     "output_type": "execute_result"
    }
   ],
   "source": [
    "from math import sqrt\n",
    "sqrt(49)"
   ]
  },
  {
   "cell_type": "markdown",
   "metadata": {},
   "source": [
    "Which is safer than importing the whole namespace with the `*` operator."
   ]
  },
  {
   "cell_type": "markdown",
   "metadata": {},
   "source": [
    "## Core Types"
   ]
  },
  {
   "cell_type": "markdown",
   "metadata": {},
   "source": [
    "### Numeric\n",
    "\n",
    "For most applications we can use numbers (both float and integers) the same way we would with R. The only thing we have to be a bit careful with is staying within [underflow and overflow](https://pythonnumericalmethods.berkeley.edu/notebooks/chapter09.02-Floating-Point-Numbers.html) limits:"
   ]
  },
  {
   "cell_type": "code",
   "execution_count": 10,
   "metadata": {},
   "outputs": [
    {
     "data": {
      "text/plain": [
       "sys.float_info(max=1.7976931348623157e+308, max_exp=1024, max_10_exp=308, min=2.2250738585072014e-308, min_exp=-1021, min_10_exp=-307, dig=15, mant_dig=53, epsilon=2.220446049250313e-16, radix=2, rounds=1)"
      ]
     },
     "execution_count": 10,
     "metadata": {},
     "output_type": "execute_result"
    }
   ],
   "source": [
    "import sys\n",
    "sys.float_info"
   ]
  },
  {
   "cell_type": "markdown",
   "metadata": {},
   "source": [
    "### Strings"
   ]
  },
  {
   "cell_type": "code",
   "execution_count": 29,
   "metadata": {},
   "outputs": [
    {
     "name": "stdout",
     "output_type": "stream",
     "text": [
      "3\n"
     ]
    },
    {
     "data": {
      "text/plain": [
       "['This', 'is', 'a', 'string.']"
      ]
     },
     "execution_count": 29,
     "metadata": {},
     "output_type": "execute_result"
    }
   ],
   "source": [
    "stringOne = \"This is a string.\"\n",
    "\n",
    "c = '''\n",
    "This is a multiline\n",
    "string.\n",
    "'''\n",
    "\n",
    "print(b.count(\"i\"))\n",
    "stringOne.split(\" \")"
   ]
  },
  {
   "cell_type": "markdown",
   "metadata": {},
   "source": [
    "One thing to take into account, though, is that strings are an immutable type. This means that we can't change the contents of a string \"in place\"."
   ]
  },
  {
   "cell_type": "code",
   "execution_count": 17,
   "metadata": {},
   "outputs": [
    {
     "data": {
      "text/plain": [
       "'ThXs Xs a strXng'"
      ]
     },
     "execution_count": 17,
     "metadata": {},
     "output_type": "execute_result"
    }
   ],
   "source": [
    "a = \"This is a string\"\n",
    "# a[5] = \"x\" # Returns an error\n",
    "\n",
    "a = a.replace(\"i\",\"X\")\n",
    "a"
   ]
  },
  {
   "cell_type": "markdown",
   "metadata": {},
   "source": [
    "\n",
    "We can also format and concatenate strings in complex ways:"
   ]
  },
  {
   "cell_type": "code",
   "execution_count": 30,
   "metadata": {},
   "outputs": [
    {
     "name": "stdout",
     "output_type": "stream",
     "text": [
      "4.56 Argentinian Pesos are worth $1 US\n"
     ]
    },
    {
     "data": {
      "text/plain": [
       "'Hello, chipdelmal. You are { 1.76 }m tall, and this string was concatenated'"
      ]
     },
     "execution_count": 30,
     "metadata": {},
     "output_type": "execute_result"
    }
   ],
   "source": [
    "template = '{0:.2f} {1:s} are worth ${2:d} US'\n",
    "print(template.format(4.5560, 'Argentinian Pesos', 1))\n",
    "\n",
    "(name, height) = (\"chipdelmal\", 1.75555)\n",
    "f\"Hello, {name}. You are {{ {height:.2f} }}m tall,\" + \" and this string was concatenated\""
   ]
  },
  {
   "cell_type": "markdown",
   "metadata": {},
   "source": [
    "## Boolean"
   ]
  },
  {
   "cell_type": "markdown",
   "metadata": {},
   "source": [
    "One of the advantages of using booleans in python is that logic comparisons tend to be easy to read:"
   ]
  },
  {
   "cell_type": "code",
   "execution_count": 31,
   "metadata": {},
   "outputs": [
    {
     "name": "stdout",
     "output_type": "stream",
     "text": [
      "False\n"
     ]
    }
   ],
   "source": [
    "print((True and False) or not (False or True))"
   ]
  },
  {
   "cell_type": "markdown",
   "metadata": {},
   "source": [
    "Finally, an important thing to remember is that the operator is is different from the logical comparison ==. The comparison == returns true when two variables contain the same information while is returns true when two variables are the same object (point towards the same location in memory)."
   ]
  },
  {
   "cell_type": "code",
   "execution_count": 36,
   "metadata": {},
   "outputs": [
    {
     "name": "stdout",
     "output_type": "stream",
     "text": [
      "Information in 'a' [0, 2, 3]\n",
      "Information in 'b' [0, 2, 3]\n",
      "True\n",
      "Information in 'a' [1, 2, 3]\n",
      "Information in 'b' [1, 2, 3]\n",
      "False\n"
     ]
    }
   ],
   "source": [
    "a = [1, 2, 3]\n",
    "b = a\n",
    "a[0] = 0\n",
    "print(f\"Information in 'a' {a}\"); \n",
    "print(f\"Information in 'b' {b}\")\n",
    "print(b is a)\n",
    "\n",
    "\n",
    "a = [1, 2, 3]\n",
    "b = a.copy()\n",
    "print(f\"Information in 'a' {a}\"); \n",
    "print(f\"Information in 'b' {b}\")\n",
    "print(b is a)"
   ]
  },
  {
   "cell_type": "markdown",
   "metadata": {},
   "source": [
    "<hr>\n",
    "\n",
    "# More Information\n",
    "\n",
    "* [dataPy CADi](https://github.com/Chipdelmal/dataPy_CADi)\n",
    "  * [Python 101 (part 1)](https://github.com/Chipdelmal/dataPy_CADi/blob/master/md/python101.md)\n",
    "  * [Python 101 (part 2)](https://github.com/Chipdelmal/dataPy_CADi/blob/master/md/python101b.md)\n",
    "  * [Python 101 (part 3)](https://github.com/Chipdelmal/dataPy_CADi/blob/master/md/python101c.md)\n",
    "  * [Python 102](https://github.com/Chipdelmal/dataPy_CADi/blob/master/md/python102.md)\n",
    "  * [Advanced Python](https://github.com/Chipdelmal/dataPy_CADi/blob/master/md/python103.md)"
   ]
  },
  {
   "cell_type": "markdown",
   "metadata": {},
   "source": []
  }
 ],
 "metadata": {
  "kernelspec": {
   "display_name": "MGSurvE_Webinar",
   "language": "python",
   "name": "python3"
  },
  "language_info": {
   "codemirror_mode": {
    "name": "ipython",
    "version": 3
   },
   "file_extension": ".py",
   "mimetype": "text/x-python",
   "name": "python",
   "nbconvert_exporter": "python",
   "pygments_lexer": "ipython3",
   "version": "3.10.12"
  },
  "orig_nbformat": 4
 },
 "nbformat": 4,
 "nbformat_minor": 2
}
