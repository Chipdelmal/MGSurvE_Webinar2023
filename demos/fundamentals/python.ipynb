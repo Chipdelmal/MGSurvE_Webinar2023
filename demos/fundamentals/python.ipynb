{
 "cells": [
  {
   "cell_type": "markdown",
   "metadata": {},
   "source": [
    "# Python Intro (for R programmers)"
   ]
  },
  {
   "cell_type": "markdown",
   "metadata": {},
   "source": [
    "Teaching a programming language is outside the scope of a software package webinar, but we do realize that most of our audience is more familiar with the [R programming language](https://www.r-project.org) than [Python](https://www.python.org/). This notebook will provide with some of the most common features and structures used by [MGSurvE](https://github.com/Chipdelmal/MGSurvE) so that our potential audience can get acquainted with the code structure and follow along as easily as possible."
   ]
  },
  {
   "cell_type": "markdown",
   "metadata": {},
   "source": [
    "## Warnings and Notes"
   ]
  },
  {
   "cell_type": "markdown",
   "metadata": {},
   "source": [
    "Some important things for [R](https://www.r-project.org) programmers who are new to [Python](https://www.python.org/) are the following:\n",
    "\n",
    "* In line with most programming languages, [Python](https://www.python.org/) is **zero-indexed**, meaning that arrays, lists, and other collections start from index `0` rather than `1`.\n",
    "* In contrast to most other programming languages, [Python](https://www.python.org/) **does not use brackets for code-blocks rather, it uses indentation** to delimit sections of our code for functions and logic structures. While it might seem strange the first couple of times it's used, people who are used to following code-style practices will quickly get used to the idea.\n",
    "* Semi colons (`;`) are not necessary to end lines, but they can be used to do multiple commands in one line.\n",
    "* Multiple variables can be assigned in the same line through \"unpacking\": `(a, b, c) = (10, 4, 2)` (see the [\"tuples section\"](#tuple) for more information).\n",
    "* Lists are mutable and copies have to be done explicitly to avoid inadvertenly changing the values of elements by reference (see [lists](#list) section for more information).\n",
    "* Growing lists in [Python](https://www.python.org/) is not as computationally expensive as it is in R (due to [amortized list expansion](https://medium.com/analytics-vidhya/amortized-runtime-analysis-for-python-lists-35e935e290db)).\n",
    "* Logic comparisons are done with `==`, whereas comparing memory elements is done with `is` (for more info have a look at the [\"boolean\" section](#boolean)).\n",
    "* Snake-casing is preferred over other types of words separators for variable names (such as camel-casing), and using the `.` usually results in errors as it is an operator to access attributes or methods in objects (see the [objects section](#objects) for more info).\n",
    "* Array and matrix operations are done under an external library (see [Numpy section](#arrays-and-matrices-numpy) for more info).\n",
    "* Array and matrix objects are static in size and homogeneous in data type (see [Numpy section](#arrays-and-matrices-numpy) for more information).\n",
    "* Array and matrix objects are modified \"in-place\", so copies of the objects have to be explicitly requested in order to modify different sections of memory (see [Numpy section](#arrays-and-matrices-numpy) for more information)."
   ]
  },
  {
   "cell_type": "markdown",
   "metadata": {},
   "source": [
    "## Handling Packages"
   ]
  },
  {
   "cell_type": "markdown",
   "metadata": {},
   "source": [
    "### Installation\n",
    "\n",
    "In [Python](https://www.python.org/), we usually install packages outside of our applications by running the following command on the terminal:\n",
    "\n",
    "```bash\n",
    "pip install MGSurvE\n",
    "```\n",
    "\n",
    "The use of virtual environments such as [venv](https://docs.python.org/3/library/venv.html) and [conda](https://docs.conda.io/en/latest/) are strongly suggested to avoid package clashes and python installation paths. If we are working in Jupyter notebooks we can install packages directly in our working environment by running:\n",
    "\n",
    "```bash\n",
    "!pip install MGSurvE\n",
    "```\n",
    "\n",
    "By adding the `!` symbol we are telling the Jupyter notebook to interpret the line as a bash command, rather than a python one."
   ]
  },
  {
   "cell_type": "markdown",
   "metadata": {},
   "source": [
    "### Import\n",
    "\n",
    "To import a package into our running application, we use the `import` command, followed by the package name."
   ]
  },
  {
   "cell_type": "code",
   "execution_count": 1,
   "metadata": {
    "execution": {
     "iopub.execute_input": "2023-09-06T18:01:49.578804Z",
     "iopub.status.busy": "2023-09-06T18:01:49.578492Z",
     "iopub.status.idle": "2023-09-06T18:01:49.595988Z",
     "shell.execute_reply": "2023-09-06T18:01:49.595667Z"
    }
   },
   "outputs": [
    {
     "data": {
      "text/plain": [
       "7.0"
      ]
     },
     "execution_count": 1,
     "metadata": {},
     "output_type": "execute_result"
    }
   ],
   "source": [
    "import math\n",
    "math.sqrt(49)"
   ]
  },
  {
   "cell_type": "markdown",
   "metadata": {},
   "source": [
    "If we want to import all the functions and variables in a package we can use:"
   ]
  },
  {
   "cell_type": "code",
   "execution_count": 2,
   "metadata": {
    "execution": {
     "iopub.execute_input": "2023-09-06T18:01:49.614885Z",
     "iopub.status.busy": "2023-09-06T18:01:49.614752Z",
     "iopub.status.idle": "2023-09-06T18:01:49.617029Z",
     "shell.execute_reply": "2023-09-06T18:01:49.616757Z"
    }
   },
   "outputs": [
    {
     "data": {
      "text/plain": [
       "7.0"
      ]
     },
     "execution_count": 2,
     "metadata": {},
     "output_type": "execute_result"
    }
   ],
   "source": [
    "from math import *\n",
    "sqrt(49)"
   ]
  },
  {
   "cell_type": "markdown",
   "metadata": {},
   "source": [
    "Which is more similar to what we would use in [R](https://www.r-project.org). We have to be careful, however, as this can cause problems with clashing functions and variables if different packages use the same names (if two packages, for example, define the `sqrt` function).\n",
    "A way to import specific functions from a package is:"
   ]
  },
  {
   "cell_type": "code",
   "execution_count": 3,
   "metadata": {
    "execution": {
     "iopub.execute_input": "2023-09-06T18:01:49.618585Z",
     "iopub.status.busy": "2023-09-06T18:01:49.618480Z",
     "iopub.status.idle": "2023-09-06T18:01:49.620337Z",
     "shell.execute_reply": "2023-09-06T18:01:49.620105Z"
    }
   },
   "outputs": [
    {
     "data": {
      "text/plain": [
       "7.0"
      ]
     },
     "execution_count": 3,
     "metadata": {},
     "output_type": "execute_result"
    }
   ],
   "source": [
    "from math import sqrt\n",
    "sqrt(49)"
   ]
  },
  {
   "cell_type": "markdown",
   "metadata": {},
   "source": [
    "### Virtual Environments"
   ]
  },
  {
   "cell_type": "markdown",
   "metadata": {},
   "source": [
    "Virtual Environments are strongly suggested for anyone who does development in [Python](https://www.python.org/). This is because they help solve a lot of problems with packages dependencies, making the code reproducible, and installing packages in systems where we don't have admin privileges. Learning what are and how to use virtual environments is outside the scope of this quick guide (as throughout the webinar we will be working with a Docker image that already contains all the required dependencies to run the code), but the main idea of these tools is to create isolated \"versions\" of the [Python](https://www.python.org/) language and packages required to run a specific application so that several different versions can co-exist in the same system. For more info on working with virtual environments, have a look at these guides: [venv](https://realpython.com/python-virtual-environments-a-primer/) and [conda](https://whiteboxml.com/blog/the-definitive-guide-to-python-virtual-environments-with-conda)"
   ]
  },
  {
   "cell_type": "markdown",
   "metadata": {},
   "source": [
    "## Core Types"
   ]
  },
  {
   "cell_type": "markdown",
   "metadata": {},
   "source": [
    "### Numeric\n"
   ]
  },
  {
   "cell_type": "markdown",
   "metadata": {},
   "source": [
    "In most applications we can use numbers (both float and integers) the same way we would in [R](https://www.r-project.org). The only thing we have to be a bit careful with is staying within [underflow and overflow](https://pythonnumericalmethods.berkeley.edu/notebooks/chapter09.02-Floating-Point-Numbers.html) limits:"
   ]
  },
  {
   "cell_type": "code",
   "execution_count": 4,
   "metadata": {
    "execution": {
     "iopub.execute_input": "2023-09-06T18:01:49.622159Z",
     "iopub.status.busy": "2023-09-06T18:01:49.622056Z",
     "iopub.status.idle": "2023-09-06T18:01:49.624138Z",
     "shell.execute_reply": "2023-09-06T18:01:49.623895Z"
    }
   },
   "outputs": [
    {
     "data": {
      "text/plain": [
       "sys.float_info(max=1.7976931348623157e+308, max_exp=1024, max_10_exp=308, min=2.2250738585072014e-308, min_exp=-1021, min_10_exp=-307, dig=15, mant_dig=53, epsilon=2.220446049250313e-16, radix=2, rounds=1)"
      ]
     },
     "execution_count": 4,
     "metadata": {},
     "output_type": "execute_result"
    }
   ],
   "source": [
    "import sys\n",
    "sys.float_info"
   ]
  },
  {
   "cell_type": "markdown",
   "metadata": {},
   "source": [
    "### Strings"
   ]
  },
  {
   "cell_type": "markdown",
   "metadata": {},
   "source": [
    "Strings, same as numerics, are pretty standard when compared to other programming languages. Since Python 3.X strings are unicode by default, so adding accents and other symbols is straightforward:"
   ]
  },
  {
   "cell_type": "code",
   "execution_count": 5,
   "metadata": {
    "execution": {
     "iopub.execute_input": "2023-09-06T18:01:49.625704Z",
     "iopub.status.busy": "2023-09-06T18:01:49.625606Z",
     "iopub.status.idle": "2023-09-06T18:01:49.627514Z",
     "shell.execute_reply": "2023-09-06T18:01:49.627196Z"
    }
   },
   "outputs": [
    {
     "name": "stdout",
     "output_type": "stream",
     "text": [
      "\n",
      "This is a multiline (multilínea)\n",
      "string.\n",
      "\n"
     ]
    }
   ],
   "source": [
    "stringOne = \"This is a string.\"\n",
    "c = '''\n",
    "This is a multiline (multilínea)\n",
    "string.\n",
    "'''\n",
    "print(c)"
   ]
  },
  {
   "cell_type": "markdown",
   "metadata": {},
   "source": [
    "One thing to take into account, though, is that strings are an immutable type. This means that we can't change the contents of a string \"in place\"."
   ]
  },
  {
   "cell_type": "code",
   "execution_count": 6,
   "metadata": {
    "execution": {
     "iopub.execute_input": "2023-09-06T18:01:49.629051Z",
     "iopub.status.busy": "2023-09-06T18:01:49.628948Z",
     "iopub.status.idle": "2023-09-06T18:01:49.630985Z",
     "shell.execute_reply": "2023-09-06T18:01:49.630742Z"
    }
   },
   "outputs": [
    {
     "data": {
      "text/plain": [
       "'ThXs Xs a strXng'"
      ]
     },
     "execution_count": 6,
     "metadata": {},
     "output_type": "execute_result"
    }
   ],
   "source": [
    "a = \"This is a string\"\n",
    "# a[5] = \"x\" # Returns an error\n",
    "# We replace the entries and re-assign the variable\n",
    "a = a.replace(\"i\",\"X\")\n",
    "a"
   ]
  },
  {
   "cell_type": "markdown",
   "metadata": {},
   "source": [
    "\n",
    "We can also format and concatenate strings in complex ways:"
   ]
  },
  {
   "cell_type": "code",
   "execution_count": 7,
   "metadata": {
    "execution": {
     "iopub.execute_input": "2023-09-06T18:01:49.632545Z",
     "iopub.status.busy": "2023-09-06T18:01:49.632445Z",
     "iopub.status.idle": "2023-09-06T18:01:49.634807Z",
     "shell.execute_reply": "2023-09-06T18:01:49.634577Z"
    }
   },
   "outputs": [
    {
     "name": "stdout",
     "output_type": "stream",
     "text": [
      "4.56 Argentinian Pesos are worth $1 US\n"
     ]
    },
    {
     "data": {
      "text/plain": [
       "'Hello, chipdelmal. You are 1.76 m tall, and this string was concatenated'"
      ]
     },
     "execution_count": 7,
     "metadata": {},
     "output_type": "execute_result"
    }
   ],
   "source": [
    "template = '{:.2f} {:s} are worth ${:d} US'\n",
    "print(template.format(4.5560, 'Argentinian Pesos', 1))\n",
    "\n",
    "(name, height) = (\"chipdelmal\", 1.75555)\n",
    "f\"Hello, {name}. You are {height:.2f} m tall,\" + \" and this string was concatenated\""
   ]
  },
  {
   "cell_type": "markdown",
   "metadata": {},
   "source": [
    "### Boolean"
   ]
  },
  {
   "cell_type": "markdown",
   "metadata": {},
   "source": [
    "One of the advantages of using booleans in python is that logic comparisons tend to be easy to read:"
   ]
  },
  {
   "cell_type": "code",
   "execution_count": 8,
   "metadata": {
    "execution": {
     "iopub.execute_input": "2023-09-06T18:01:49.636773Z",
     "iopub.status.busy": "2023-09-06T18:01:49.636673Z",
     "iopub.status.idle": "2023-09-06T18:01:49.638731Z",
     "shell.execute_reply": "2023-09-06T18:01:49.638502Z"
    }
   },
   "outputs": [
    {
     "data": {
      "text/plain": [
       "False"
      ]
     },
     "execution_count": 8,
     "metadata": {},
     "output_type": "execute_result"
    }
   ],
   "source": [
    "(True and False) or (False or not True)"
   ]
  },
  {
   "cell_type": "markdown",
   "metadata": {},
   "source": [
    "One minor detail with booleans in [Python](https://www.python.org/) is that they are considered numeric (where `False` takes the value of `0` and `True` a value of `1`), so operations like the following are allowed:"
   ]
  },
  {
   "cell_type": "code",
   "execution_count": 9,
   "metadata": {
    "execution": {
     "iopub.execute_input": "2023-09-06T18:01:49.640204Z",
     "iopub.status.busy": "2023-09-06T18:01:49.640104Z",
     "iopub.status.idle": "2023-09-06T18:01:49.642022Z",
     "shell.execute_reply": "2023-09-06T18:01:49.641782Z"
    }
   },
   "outputs": [
    {
     "data": {
      "text/plain": [
       "1.0"
      ]
     },
     "execution_count": 9,
     "metadata": {},
     "output_type": "execute_result"
    }
   ],
   "source": [
    "True+(False/True)"
   ]
  },
  {
   "cell_type": "markdown",
   "metadata": {},
   "source": [
    "And any number other than `0` is considered to be `True` if used in a boolean operation:"
   ]
  },
  {
   "cell_type": "code",
   "execution_count": 10,
   "metadata": {
    "execution": {
     "iopub.execute_input": "2023-09-06T18:01:49.643564Z",
     "iopub.status.busy": "2023-09-06T18:01:49.643467Z",
     "iopub.status.idle": "2023-09-06T18:01:49.645083Z",
     "shell.execute_reply": "2023-09-06T18:01:49.644852Z"
    }
   },
   "outputs": [
    {
     "name": "stdout",
     "output_type": "stream",
     "text": [
      "True\n",
      "True\n"
     ]
    }
   ],
   "source": [
    "print(5 and True)\n",
    "print(not (False and 0))"
   ]
  },
  {
   "cell_type": "markdown",
   "metadata": {},
   "source": [
    "Finally, an important thing to remember is that the operator `is` is different from the logical comparison `==`. The `==` comparison returns `True` when two variables contain the same information while `is` returns `True` when two variables are the same object (point towards the same location in memory)."
   ]
  },
  {
   "cell_type": "code",
   "execution_count": 11,
   "metadata": {
    "execution": {
     "iopub.execute_input": "2023-09-06T18:01:49.646449Z",
     "iopub.status.busy": "2023-09-06T18:01:49.646360Z",
     "iopub.status.idle": "2023-09-06T18:01:49.648716Z",
     "shell.execute_reply": "2023-09-06T18:01:49.648473Z"
    }
   },
   "outputs": [
    {
     "name": "stdout",
     "output_type": "stream",
     "text": [
      "Information in 'a' [0, 2, 3]\n",
      "Information in 'b' [0, 2, 3]\n",
      ">>> b is a: True\n",
      "Information in 'a' [1, 2, 3]\n",
      "Information in 'b' [1, 2, 3]\n",
      ">>> b is a: False\n"
     ]
    }
   ],
   "source": [
    "a = [1, 2, 3]\n",
    "b = a\n",
    "a[0] = 0\n",
    "print(f\"Information in 'a' {a}\"); \n",
    "print(f\"Information in 'b' {b}\")\n",
    "print(\">>> b is a: {}\".format(b is a))\n",
    "\n",
    "\n",
    "a = [1, 2, 3]\n",
    "b = a.copy()\n",
    "print(f\"Information in 'a' {a}\"); \n",
    "print(f\"Information in 'b' {b}\")\n",
    "print(f\">>> b is a: {b is a}\")"
   ]
  },
  {
   "cell_type": "markdown",
   "metadata": {},
   "source": [
    "### None"
   ]
  },
  {
   "cell_type": "markdown",
   "metadata": {},
   "source": [
    "The None object exists as an instance in memory, and there is only one instance of it for every [Python](https://www.python.org/) program. One important thing to take into account is that we should always use the is operator to make comparisons to the None object:"
   ]
  },
  {
   "cell_type": "code",
   "execution_count": 12,
   "metadata": {
    "execution": {
     "iopub.execute_input": "2023-09-06T18:01:49.650216Z",
     "iopub.status.busy": "2023-09-06T18:01:49.650142Z",
     "iopub.status.idle": "2023-09-06T18:01:49.652203Z",
     "shell.execute_reply": "2023-09-06T18:01:49.651938Z"
    }
   },
   "outputs": [
    {
     "data": {
      "text/plain": [
       "True"
      ]
     },
     "execution_count": 12,
     "metadata": {},
     "output_type": "execute_result"
    }
   ],
   "source": [
    "(a, b) = (None, None)\n",
    "(a is None) and (b is None)"
   ]
  },
  {
   "cell_type": "markdown",
   "metadata": {},
   "source": [
    "## Collections"
   ]
  },
  {
   "cell_type": "markdown",
   "metadata": {},
   "source": [
    "In [R](https://www.r-project.org) we are used to handling lists and matrices as the most versatile collections of elements. Lists are still some of the most flexible collections of elements in [Python](https://www.python.org/), but named lists get usually replaced by dictionaries, and matrices are replaced by Numpy arrays. In this section we will go through some of the most widely used collection types."
   ]
  },
  {
   "cell_type": "markdown",
   "metadata": {},
   "source": [
    "### List"
   ]
  },
  {
   "cell_type": "markdown",
   "metadata": {},
   "source": [
    "Lists are mutable collections that can contain elements of different types. We can define, slice, and manipulate lists as we would in most programming languages:"
   ]
  },
  {
   "cell_type": "code",
   "execution_count": 13,
   "metadata": {
    "execution": {
     "iopub.execute_input": "2023-09-06T18:01:49.653870Z",
     "iopub.status.busy": "2023-09-06T18:01:49.653769Z",
     "iopub.status.idle": "2023-09-06T18:01:49.656392Z",
     "shell.execute_reply": "2023-09-06T18:01:49.656120Z"
    }
   },
   "outputs": [
    {
     "name": "stdout",
     "output_type": "stream",
     "text": [
      "[5, 2, 'a', 4]\n"
     ]
    },
    {
     "data": {
      "text/plain": [
       "3"
      ]
     },
     "execution_count": 13,
     "metadata": {},
     "output_type": "execute_result"
    }
   ],
   "source": [
    "lstA = [1, 2, \"a\", 4]\n",
    "lstA[0] = 5\n",
    "print(lstA)\n",
    "\n",
    "# Getting elements through indices\n",
    "a = [7, 1, 2, 6, 0, 3, 2]\n",
    "a[2:4]\n",
    "# Replacing elements\n",
    "a[2:3] = [0,0]\n",
    "# Getting elements from the end\n",
    "a[-2]"
   ]
  },
  {
   "cell_type": "markdown",
   "metadata": {},
   "source": [
    "One important thing to take into account, though, is that lists are modified \"in-place\", meaning that if a copy of the list is not explicitly created, we could run into \"side-effect\" problems when changing the values of its elements. For example, if we created two lists as follows, and modified one of them, both would be changed as they refer to the same object in memory:"
   ]
  },
  {
   "cell_type": "code",
   "execution_count": 14,
   "metadata": {
    "execution": {
     "iopub.execute_input": "2023-09-06T18:01:49.657979Z",
     "iopub.status.busy": "2023-09-06T18:01:49.657863Z",
     "iopub.status.idle": "2023-09-06T18:01:49.659677Z",
     "shell.execute_reply": "2023-09-06T18:01:49.659420Z"
    }
   },
   "outputs": [
    {
     "name": "stdout",
     "output_type": "stream",
     "text": [
      "True\n",
      "[1000, 2, 3]\n",
      "[1000, 2, 3]\n"
     ]
    }
   ],
   "source": [
    "# A and B are exactly the same list (same location in memory)\n",
    "a = [1, 2, 3]\n",
    "b = a\n",
    "print(a is b)\n",
    "# So, when we modify A, B is affected too\n",
    "a[0] = 1000\n",
    "print(a)\n",
    "print(b)"
   ]
  },
  {
   "cell_type": "markdown",
   "metadata": {},
   "source": [
    "To avoid this behaviour, we would need to create a copy of the first list when creating the second:"
   ]
  },
  {
   "cell_type": "code",
   "execution_count": 15,
   "metadata": {
    "execution": {
     "iopub.execute_input": "2023-09-06T18:01:49.661164Z",
     "iopub.status.busy": "2023-09-06T18:01:49.661059Z",
     "iopub.status.idle": "2023-09-06T18:01:49.663006Z",
     "shell.execute_reply": "2023-09-06T18:01:49.662773Z"
    }
   },
   "outputs": [
    {
     "name": "stdout",
     "output_type": "stream",
     "text": [
      "False\n",
      "[1000, 2, 3]\n",
      "[1, 2, 3]\n"
     ]
    }
   ],
   "source": [
    "# A and B are different lists \n",
    "a = [1, 2, 3]\n",
    "b = a.copy()\n",
    "print(a is b)\n",
    "# So, when we modify A, B is not affected\n",
    "a[0] = 1000\n",
    "print(a)\n",
    "print(b)"
   ]
  },
  {
   "cell_type": "markdown",
   "metadata": {},
   "source": [
    "For [R](https://www.r-project.org) programmers it is important to note and remember that Python is zero-indexed, meaning that all lists start at `0`, unlike [R](https://www.r-project.org) that is one-indexed."
   ]
  },
  {
   "cell_type": "markdown",
   "metadata": {},
   "source": [
    "### Tuple"
   ]
  },
  {
   "cell_type": "markdown",
   "metadata": {},
   "source": [
    "Tuples are similar to lists, with the difference that these collections are immutable, meaning that once they're defined they can't be modified:"
   ]
  },
  {
   "cell_type": "code",
   "execution_count": 16,
   "metadata": {
    "execution": {
     "iopub.execute_input": "2023-09-06T18:01:49.664560Z",
     "iopub.status.busy": "2023-09-06T18:01:49.664464Z",
     "iopub.status.idle": "2023-09-06T18:01:49.666146Z",
     "shell.execute_reply": "2023-09-06T18:01:49.665898Z"
    }
   },
   "outputs": [
    {
     "name": "stdout",
     "output_type": "stream",
     "text": [
      "(8, 6, 4, 2)\n"
     ]
    }
   ],
   "source": [
    "myTuple = (2, 4, 6, 8)\n",
    "print(myTuple[3::-1])\n",
    "\n",
    "# This line would return an error, as we can't modify tuple's elements\n",
    "# myTuple[0] = 10"
   ]
  },
  {
   "cell_type": "markdown",
   "metadata": {},
   "source": [
    "### Dictionary"
   ]
  },
  {
   "cell_type": "markdown",
   "metadata": {},
   "source": [
    "Dictionaries in [Python](https://www.python.org/) (hash-tables in other programming languages) are quite efficient data storage-retreival collections. Rather than storing elements in a given order, the dictionary stores pairs of: key-value. Creating dictionaries is fairly simple and similar to defining named lists:"
   ]
  },
  {
   "cell_type": "code",
   "execution_count": 17,
   "metadata": {
    "execution": {
     "iopub.execute_input": "2023-09-06T18:01:49.667795Z",
     "iopub.status.busy": "2023-09-06T18:01:49.667659Z",
     "iopub.status.idle": "2023-09-06T18:01:49.669845Z",
     "shell.execute_reply": "2023-09-06T18:01:49.669487Z"
    }
   },
   "outputs": [],
   "source": [
    "# We can create a dictionary in various different ways:\n",
    "dictEx = {\"age\": 10 , \"name\": \"Pusheen\", \"animal\": \"cat\"}\n",
    "dictEx = dict(name=\"Pusheen\", animal=\"cat\", age=10)\n",
    "dictEx = dict(zip([\"name\",\"age\",\"animal\"], [\"Pusheen\",10,\"cat\"]))"
   ]
  },
  {
   "cell_type": "markdown",
   "metadata": {},
   "source": [
    "Adding and retreiving elements can be done easily too:"
   ]
  },
  {
   "cell_type": "code",
   "execution_count": 18,
   "metadata": {
    "execution": {
     "iopub.execute_input": "2023-09-06T18:01:49.671403Z",
     "iopub.status.busy": "2023-09-06T18:01:49.671306Z",
     "iopub.status.idle": "2023-09-06T18:01:49.673844Z",
     "shell.execute_reply": "2023-09-06T18:01:49.673525Z"
    }
   },
   "outputs": [
    {
     "name": "stdout",
     "output_type": "stream",
     "text": [
      "10\n"
     ]
    },
    {
     "data": {
      "text/plain": [
       "{'name': 'Pusheen', 'age': 11, 'animal': 'cat', 'hobby': 'blogging'}"
      ]
     },
     "execution_count": 18,
     "metadata": {},
     "output_type": "execute_result"
    }
   ],
   "source": [
    "print(dictEx[\"age\"])\n",
    "# We can also add a new element by key, or replace an existing one\n",
    "dictEx[\"age\"] = 11\n",
    "dictEx[\"hobby\"] = \"blogging\"\n",
    "dictEx"
   ]
  },
  {
   "cell_type": "markdown",
   "metadata": {},
   "source": [
    "A couple of the few things we have to be careful with is that they keys for the dictionary have to be immutable (we can't use lists, for example, as keys), and that they are unsorted, so we shouldn't assume that if we iterate through their elements we will get the values in any given order."
   ]
  },
  {
   "cell_type": "markdown",
   "metadata": {},
   "source": [
    "### Set"
   ]
  },
  {
   "cell_type": "markdown",
   "metadata": {},
   "source": [
    "Sets are useful collections whenever we want to check an element for pertenence in an unsorted group. With this data collection we can perform mathematical operations such as the union, intersection, difference, symmetric difference, amongst others:"
   ]
  },
  {
   "cell_type": "code",
   "execution_count": 19,
   "metadata": {
    "execution": {
     "iopub.execute_input": "2023-09-06T18:01:49.675592Z",
     "iopub.status.busy": "2023-09-06T18:01:49.675484Z",
     "iopub.status.idle": "2023-09-06T18:01:49.677459Z",
     "shell.execute_reply": "2023-09-06T18:01:49.677191Z"
    }
   },
   "outputs": [
    {
     "name": "stdout",
     "output_type": "stream",
     "text": [
      "True\n",
      "{8, 6}\n"
     ]
    }
   ],
   "source": [
    "mySet = {2, 4, 6, 8}\n",
    "myExt = {6, 8, 12, 14}\n",
    "print(2 in mySet)\n",
    "print(mySet.intersection(myExt))"
   ]
  },
  {
   "cell_type": "markdown",
   "metadata": {},
   "source": [
    "### Arrays and Matrices ([Numpy](https://numpy.org/))"
   ]
  },
  {
   "cell_type": "markdown",
   "metadata": {},
   "source": [
    "Unlike [R](https://www.r-project.org), we usually do not handle matrix operations natively, rather we use a Numpy, a library created mostly in C and C++ with [Python](https://www.python.org/) bindings to perform fast numeric operations on our mathematical constructs. To install numpy, we can simply run `pip install numpy` or `conda install numpy`, and to use it we import the package and do operations as we usually would in any [Python](https://www.python.org/) application:"
   ]
  },
  {
   "cell_type": "code",
   "execution_count": 20,
   "metadata": {
    "execution": {
     "iopub.execute_input": "2023-09-06T18:01:49.678936Z",
     "iopub.status.busy": "2023-09-06T18:01:49.678837Z",
     "iopub.status.idle": "2023-09-06T18:01:49.716255Z",
     "shell.execute_reply": "2023-09-06T18:01:49.715978Z"
    }
   },
   "outputs": [
    {
     "name": "stdout",
     "output_type": "stream",
     "text": [
      "[[ 1 36]\n",
      " [ 0 25]\n",
      " [ 0 16]]\n"
     ]
    }
   ],
   "source": [
    "import numpy as np\n",
    "\n",
    "myMatrix = np.array([\n",
    "    [1, 2, 3],\n",
    "    [6, 5, 4]\n",
    "])\n",
    "myMask = np.array([\n",
    "    [1, 0, 0],\n",
    "    [1, 1, 1]\n",
    "])\n",
    "matrixOperation = ((myMask*myMatrix)**2).T\n",
    "print(matrixOperation)"
   ]
  },
  {
   "cell_type": "markdown",
   "metadata": {},
   "source": [
    "It is important to note a couple of things regarding arrays: first, they are static in size (elements in the array are contiguous in memory); and second, elements in the array must be homogeneous in [type](https://numpy.org/doc/stable/user/basics.types.html). For example, let's define a 2 by 5 array of boolean elements:"
   ]
  },
  {
   "cell_type": "code",
   "execution_count": 21,
   "metadata": {
    "execution": {
     "iopub.execute_input": "2023-09-06T18:01:49.717862Z",
     "iopub.status.busy": "2023-09-06T18:01:49.717740Z",
     "iopub.status.idle": "2023-09-06T18:01:49.719894Z",
     "shell.execute_reply": "2023-09-06T18:01:49.719646Z"
    }
   },
   "outputs": [
    {
     "name": "stdout",
     "output_type": "stream",
     "text": [
      "My array is:\n",
      "[[False  True False False  True]\n",
      " [ True  True False False False]];\n",
      "with the \"bool\" data type which uses 10 bytes of memory.\n"
     ]
    }
   ],
   "source": [
    "myArray = np.array([\n",
    "    [0, 1, 0, False, True],\n",
    "    [10.2, 9, 0, 0, 0]\n",
    "], dtype=np.bool_)\n",
    "print(f'My array is:\\n{myArray};\\nwith the \"{myArray.dtype}\" data type which uses {myArray.nbytes} bytes of memory.')\n"
   ]
  },
  {
   "cell_type": "markdown",
   "metadata": {},
   "source": [
    "We can see that, as we passed a value to the `dtype` optional argument, all the elements in the array were coerced to a boolean type. Let's see what would have happened if we hadn't used the `dtype` argument:"
   ]
  },
  {
   "cell_type": "code",
   "execution_count": 22,
   "metadata": {
    "execution": {
     "iopub.execute_input": "2023-09-06T18:01:49.721258Z",
     "iopub.status.busy": "2023-09-06T18:01:49.721160Z",
     "iopub.status.idle": "2023-09-06T18:01:49.723059Z",
     "shell.execute_reply": "2023-09-06T18:01:49.722829Z"
    }
   },
   "outputs": [
    {
     "name": "stdout",
     "output_type": "stream",
     "text": [
      "My array is:\n",
      "[[ 0.   1.   0.   0.   1. ]\n",
      " [10.2  9.   0.   0.   0. ]];\n",
      "with the \"float64\" data type which uses 80 bytes of memory.\n"
     ]
    }
   ],
   "source": [
    "myArray = np.array([\n",
    "    [0, 1, 0, False, True],\n",
    "    [10.2, 9, 0, 0, 0]\n",
    "])\n",
    "print(f'My array is:\\n{myArray};\\nwith the \"{myArray.dtype}\" data type which uses {myArray.nbytes} bytes of memory.')"
   ]
  },
  {
   "cell_type": "markdown",
   "metadata": {},
   "source": [
    "We can see that numpy coerces elements to the data type of the element that requires the largest precision, which might result in more memory being used. \n",
    "Finally, same as with lists, we have to take into account that numpy arrays are modified \"in-place\", so doing the following:"
   ]
  },
  {
   "cell_type": "code",
   "execution_count": 23,
   "metadata": {
    "execution": {
     "iopub.execute_input": "2023-09-06T18:01:49.724460Z",
     "iopub.status.busy": "2023-09-06T18:01:49.724359Z",
     "iopub.status.idle": "2023-09-06T18:01:49.726353Z",
     "shell.execute_reply": "2023-09-06T18:01:49.726099Z"
    }
   },
   "outputs": [
    {
     "name": "stdout",
     "output_type": "stream",
     "text": [
      "True\n",
      "[1000    2    3]\n",
      "[1000    2    3]\n"
     ]
    }
   ],
   "source": [
    "# A and B are exactly the same array (same location in memory)\n",
    "a = np.array([1, 2, 3])\n",
    "b = a\n",
    "print(a is b)\n",
    "# So, when we modify A, B is affected too\n",
    "a[0] = 1000\n",
    "print(a)\n",
    "print(b)"
   ]
  },
  {
   "cell_type": "markdown",
   "metadata": {},
   "source": [
    "we modify the object in memory to which both `a` and `b` point, so they both change their value. To avoid this, we need to create a copy explicitly:"
   ]
  },
  {
   "cell_type": "code",
   "execution_count": 24,
   "metadata": {
    "execution": {
     "iopub.execute_input": "2023-09-06T18:01:49.727955Z",
     "iopub.status.busy": "2023-09-06T18:01:49.727727Z",
     "iopub.status.idle": "2023-09-06T18:01:49.729829Z",
     "shell.execute_reply": "2023-09-06T18:01:49.729578Z"
    }
   },
   "outputs": [
    {
     "name": "stdout",
     "output_type": "stream",
     "text": [
      "False\n",
      "[1000    2    3]\n",
      "[1 2 3]\n"
     ]
    }
   ],
   "source": [
    "# A and B are exactly the same array (same location in memory)\n",
    "a = np.array([1, 2, 3])\n",
    "b = a.copy()\n",
    "print(a is b)\n",
    "# So, when we modify A, B is affected too\n",
    "a[0] = 1000\n",
    "print(a)\n",
    "print(b)"
   ]
  },
  {
   "cell_type": "markdown",
   "metadata": {},
   "source": [
    "Numpy are widely used internally by MGSurvE to perform all the algebraic operations required in the optimization cycle, so some knowledge on this package would be required for people interested in going deeper into the development of our software."
   ]
  },
  {
   "cell_type": "markdown",
   "metadata": {},
   "source": [
    "### Dataframes ([Pandas](https://pandas.pydata.org/))"
   ]
  },
  {
   "cell_type": "markdown",
   "metadata": {},
   "source": [
    "Same as with arrays, dataframes are handled with external libraries in Python, where the most popular one by far is [Pandas](https://pandas.pydata.org/). We won't go into much detail here in terms of how to create and handle dataframes, as it's a wide subject and MGSurvE usually just makes use of these structures for initialization of objects or exporting optimization logs. Defining DataFrames and accessing elements can be done as follows:"
   ]
  },
  {
   "cell_type": "code",
   "execution_count": 25,
   "metadata": {
    "execution": {
     "iopub.execute_input": "2023-09-06T18:01:49.731341Z",
     "iopub.status.busy": "2023-09-06T18:01:49.731248Z",
     "iopub.status.idle": "2023-09-06T18:01:49.852302Z",
     "shell.execute_reply": "2023-09-06T18:01:49.852033Z"
    }
   },
   "outputs": [
    {
     "name": "stdout",
     "output_type": "stream",
     "text": [
      "   x-coordinate  y-coordinate  trap-type\n",
      "0            10            22          1\n",
      "1             0            14          1\n",
      "2             1            10          0\n",
      "Trap types: [1 1 0]\n"
     ]
    }
   ],
   "source": [
    "import pandas as pd\n",
    " \n",
    "data = {\n",
    "    'x-coordinate': [10, 0, 1],\n",
    "    'y-coordinate': [22, 14, 10],\n",
    "    'trap-type': [1, 1, 0] \n",
    "}\n",
    "df = pd.DataFrame(data)\n",
    "print(df)\n",
    "print(f\"Trap types: {df['trap-type'].values}\")"
   ]
  },
  {
   "cell_type": "markdown",
   "metadata": {},
   "source": [
    "## Control Flow"
   ]
  },
  {
   "cell_type": "markdown",
   "metadata": {},
   "source": [
    "Control flow structures work in pretty much the same way as they do in other programming languages, although python does have some convenient shortcuts to make our lives easier."
   ]
  },
  {
   "cell_type": "markdown",
   "metadata": {},
   "source": [
    "### If-Elif-Else"
   ]
  },
  {
   "cell_type": "markdown",
   "metadata": {},
   "source": [
    "If statements are pretty straightforward, the only thing we need to remember is that code-blocks are delimited by indentation:"
   ]
  },
  {
   "cell_type": "code",
   "execution_count": 26,
   "metadata": {
    "execution": {
     "iopub.execute_input": "2023-09-06T18:01:49.854017Z",
     "iopub.status.busy": "2023-09-06T18:01:49.853898Z",
     "iopub.status.idle": "2023-09-06T18:01:49.855720Z",
     "shell.execute_reply": "2023-09-06T18:01:49.855463Z"
    }
   },
   "outputs": [
    {
     "name": "stdout",
     "output_type": "stream",
     "text": [
      "The number is negative.\n",
      "End of program\n"
     ]
    }
   ],
   "source": [
    "x = -1\n",
    "if x < 0:\n",
    "  print(\"The number is negative.\")\n",
    "print(\"End of program\")"
   ]
  },
  {
   "cell_type": "markdown",
   "metadata": {},
   "source": [
    "If-elif-else statements work the same way as in any other general-purpose language:"
   ]
  },
  {
   "cell_type": "code",
   "execution_count": 27,
   "metadata": {
    "execution": {
     "iopub.execute_input": "2023-09-06T18:01:49.857205Z",
     "iopub.status.busy": "2023-09-06T18:01:49.857104Z",
     "iopub.status.idle": "2023-09-06T18:01:49.858987Z",
     "shell.execute_reply": "2023-09-06T18:01:49.858731Z"
    }
   },
   "outputs": [
    {
     "name": "stdout",
     "output_type": "stream",
     "text": [
      "The number less than zero\n"
     ]
    }
   ],
   "source": [
    "x = -10\n",
    "if x == 0:\n",
    "  print(\"The number is zero\")\n",
    "elif x < 0:\n",
    "  print(\"The number less than zero\")\n",
    "else:\n",
    "  print(\"The number more than zero\")"
   ]
  },
  {
   "cell_type": "markdown",
   "metadata": {},
   "source": [
    "And we can use single-line shorthands to make comparisons and assign values:"
   ]
  },
  {
   "cell_type": "code",
   "execution_count": 28,
   "metadata": {
    "execution": {
     "iopub.execute_input": "2023-09-06T18:01:49.860327Z",
     "iopub.status.busy": "2023-09-06T18:01:49.860230Z",
     "iopub.status.idle": "2023-09-06T18:01:49.861952Z",
     "shell.execute_reply": "2023-09-06T18:01:49.861684Z"
    }
   },
   "outputs": [
    {
     "name": "stdout",
     "output_type": "stream",
     "text": [
      "False\n"
     ]
    }
   ],
   "source": [
    "x = 0\n",
    "result = (True if (x > 0) else False)\n",
    "print(result)"
   ]
  },
  {
   "cell_type": "markdown",
   "metadata": {},
   "source": [
    "### For"
   ]
  },
  {
   "cell_type": "markdown",
   "metadata": {},
   "source": [
    "For loops iterate over collections of items (lists or tuples). We can use these loops in a traditional way:"
   ]
  },
  {
   "cell_type": "code",
   "execution_count": 29,
   "metadata": {
    "execution": {
     "iopub.execute_input": "2023-09-06T18:01:49.863402Z",
     "iopub.status.busy": "2023-09-06T18:01:49.863303Z",
     "iopub.status.idle": "2023-09-06T18:01:49.865181Z",
     "shell.execute_reply": "2023-09-06T18:01:49.864925Z"
    }
   },
   "outputs": [
    {
     "name": "stdout",
     "output_type": "stream",
     "text": [
      "0\n",
      "1\n",
      "3\n",
      "6\n",
      "10\n",
      "15\n",
      "21\n",
      "28\n",
      "36\n",
      "45\n"
     ]
    }
   ],
   "source": [
    "sum = 0\n",
    "list(range(0,10,2))\n",
    "for i in range(0,10,1):\n",
    "  sum = sum + i\n",
    "  print(sum)"
   ]
  },
  {
   "cell_type": "markdown",
   "metadata": {},
   "source": [
    "And we can iterate elements of some collections directly:"
   ]
  },
  {
   "cell_type": "code",
   "execution_count": 30,
   "metadata": {
    "execution": {
     "iopub.execute_input": "2023-09-06T18:01:49.866579Z",
     "iopub.status.busy": "2023-09-06T18:01:49.866487Z",
     "iopub.status.idle": "2023-09-06T18:01:49.868315Z",
     "shell.execute_reply": "2023-09-06T18:01:49.868045Z"
    }
   },
   "outputs": [
    {
     "name": "stdout",
     "output_type": "stream",
     "text": [
      "N: One\n",
      "N: Two\n",
      "N: Three\n",
      "N: Four\n"
     ]
    }
   ],
   "source": [
    "numbers = [\"One\", \"Two\", \"Three\", \"Four\"]\n",
    "for num in numbers:\n",
    "  print(\"N: \" + num)"
   ]
  },
  {
   "cell_type": "markdown",
   "metadata": {},
   "source": [
    "Furthermore, we can traverse a list and use the index of the currently inspected element at the same time by taking advantage of the enumerate function:"
   ]
  },
  {
   "cell_type": "code",
   "execution_count": 31,
   "metadata": {
    "execution": {
     "iopub.execute_input": "2023-09-06T18:01:49.870005Z",
     "iopub.status.busy": "2023-09-06T18:01:49.869850Z",
     "iopub.status.idle": "2023-09-06T18:01:49.872003Z",
     "shell.execute_reply": "2023-09-06T18:01:49.871675Z"
    }
   },
   "outputs": [
    {
     "name": "stdout",
     "output_type": "stream",
     "text": [
      "Number 0: One\n",
      "Number 1: Two\n",
      "Number 2: Three\n",
      "Number 3: Four\n"
     ]
    }
   ],
   "source": [
    "numbers = [\"One\", \"Two\", \"Three\", \"Four\"]\n",
    "for (i, name) in enumerate(numbers):\n",
    "  print(\"Number \" + str(i) + \": \" + name)"
   ]
  },
  {
   "cell_type": "markdown",
   "metadata": {},
   "source": [
    "### List comprehension"
   ]
  },
  {
   "cell_type": "markdown",
   "metadata": {},
   "source": [
    "One of the most beloved features in Python is the ability to do list comprehensions. By using some quick shorthands we can define and store list values easily:"
   ]
  },
  {
   "cell_type": "code",
   "execution_count": 32,
   "metadata": {
    "execution": {
     "iopub.execute_input": "2023-09-06T18:01:49.873601Z",
     "iopub.status.busy": "2023-09-06T18:01:49.873495Z",
     "iopub.status.idle": "2023-09-06T18:01:49.875384Z",
     "shell.execute_reply": "2023-09-06T18:01:49.875068Z"
    }
   },
   "outputs": [
    {
     "name": "stdout",
     "output_type": "stream",
     "text": [
      "[0, 2, 4, 6, 8, 10, 12, 14, 16, 18]\n"
     ]
    }
   ],
   "source": [
    "squaredInts = [i*2 for i in range(10)]\n",
    "print(squaredInts)"
   ]
  },
  {
   "cell_type": "markdown",
   "metadata": {},
   "source": [
    "We can even combine if-else statements in list comprehensions for more complex behaviors:\n",
    "* if: `[f(x) for x in sequence if condition]`\n",
    "* if else: `[f(x) if condition else g(x) for x in sequence]`"
   ]
  },
  {
   "cell_type": "code",
   "execution_count": 33,
   "metadata": {
    "execution": {
     "iopub.execute_input": "2023-09-06T18:01:49.877019Z",
     "iopub.status.busy": "2023-09-06T18:01:49.876911Z",
     "iopub.status.idle": "2023-09-06T18:01:49.879077Z",
     "shell.execute_reply": "2023-09-06T18:01:49.878830Z"
    }
   },
   "outputs": [
    {
     "name": "stdout",
     "output_type": "stream",
     "text": [
      "[4, 16, 36, 64]\n",
      "[1, 1.4142135623730951, 9, 2.0, 25, 2.449489742783178, 49, 2.8284271247461903, 81]\n"
     ]
    }
   ],
   "source": [
    "# Square of even numbers\n",
    "compA = [(i**2) for i in range(1, 10) if (i%2==0)]\n",
    "print(compA)\n",
    "# Square of odds, root of evens\n",
    "compB = [(i**2) if (i%2!=0) else (i**(1/2)) for i in range(1, 10)]\n",
    "print(compB)"
   ]
  },
  {
   "cell_type": "markdown",
   "metadata": {},
   "source": [
    "And we can even do comprehensions with structures such as [dictionaries](#dictionary):"
   ]
  },
  {
   "cell_type": "code",
   "execution_count": 34,
   "metadata": {
    "execution": {
     "iopub.execute_input": "2023-09-06T18:01:49.880735Z",
     "iopub.status.busy": "2023-09-06T18:01:49.880566Z",
     "iopub.status.idle": "2023-09-06T18:01:49.882988Z",
     "shell.execute_reply": "2023-09-06T18:01:49.882693Z"
    }
   },
   "outputs": [
    {
     "data": {
      "text/plain": [
       "{1: 'one', 2: 'two', 3: 'three'}"
      ]
     },
     "execution_count": 34,
     "metadata": {},
     "output_type": "execute_result"
    }
   ],
   "source": [
    "{ix+1: val for (ix, val) in enumerate(['one', 'two', 'three'])}"
   ]
  },
  {
   "cell_type": "markdown",
   "metadata": {},
   "source": [
    "### While"
   ]
  },
  {
   "cell_type": "markdown",
   "metadata": {},
   "source": [
    "While loops hold little surprises in comparison to other programming languages. An example in which we sample random uniform numbers from 0 to 10 while our sampled value is less than 8, and is run at most 10 times would be:"
   ]
  },
  {
   "cell_type": "code",
   "execution_count": 35,
   "metadata": {
    "execution": {
     "iopub.execute_input": "2023-09-06T18:01:49.884632Z",
     "iopub.status.busy": "2023-09-06T18:01:49.884523Z",
     "iopub.status.idle": "2023-09-06T18:01:49.886786Z",
     "shell.execute_reply": "2023-09-06T18:01:49.886480Z"
    }
   },
   "outputs": [
    {
     "name": "stdout",
     "output_type": "stream",
     "text": [
      "3\n"
     ]
    }
   ],
   "source": [
    "from random import randint\n",
    "\n",
    "(x, total) = (0, 0)\n",
    "while (x <= 8):\n",
    "  if total >= 10:\n",
    "    break\n",
    "  total = total + 1\n",
    "  x = randint(0, 10)\n",
    "print(total)"
   ]
  },
  {
   "cell_type": "markdown",
   "metadata": {},
   "source": [
    "## Functions"
   ]
  },
  {
   "cell_type": "markdown",
   "metadata": {},
   "source": [
    "Defining functions can be done by using the following template:\n",
    "```python\n",
    "def FUNCTION_NAME(ARGUMENTS): \n",
    "    FUNCTION_BODY\n",
    "    return FUNCTION_RESULT\n",
    "```\n",
    "\n",
    "For example, defining a simple function to return the square of a number can be done as follows:"
   ]
  },
  {
   "cell_type": "code",
   "execution_count": 36,
   "metadata": {
    "execution": {
     "iopub.execute_input": "2023-09-06T18:01:49.888714Z",
     "iopub.status.busy": "2023-09-06T18:01:49.888602Z",
     "iopub.status.idle": "2023-09-06T18:01:49.891067Z",
     "shell.execute_reply": "2023-09-06T18:01:49.890709Z"
    }
   },
   "outputs": [
    {
     "data": {
      "text/plain": [
       "4"
      ]
     },
     "execution_count": 36,
     "metadata": {},
     "output_type": "execute_result"
    }
   ],
   "source": [
    "def squared(number):\n",
    "    sqrdNum = number**2\n",
    "    return sqrdNum\n",
    "\n",
    "squared(2)"
   ]
  },
  {
   "cell_type": "markdown",
   "metadata": {},
   "source": [
    "And adding optional arguments is the same as we do in [R](https://www.r-project.org):"
   ]
  },
  {
   "cell_type": "code",
   "execution_count": 37,
   "metadata": {
    "execution": {
     "iopub.execute_input": "2023-09-06T18:01:49.892876Z",
     "iopub.status.busy": "2023-09-06T18:01:49.892734Z",
     "iopub.status.idle": "2023-09-06T18:01:49.895749Z",
     "shell.execute_reply": "2023-09-06T18:01:49.895058Z"
    }
   },
   "outputs": [
    {
     "name": "stdout",
     "output_type": "stream",
     "text": [
      "4\n",
      "256\n"
     ]
    }
   ],
   "source": [
    "def power(number, power=2):\n",
    "    pwdNum = (number**power)\n",
    "    return pwdNum\n",
    "\n",
    "print(power(2))\n",
    "print(power(2, power=8))"
   ]
  },
  {
   "cell_type": "markdown",
   "metadata": {},
   "source": [
    "## Objects"
   ]
  },
  {
   "cell_type": "markdown",
   "metadata": {},
   "source": [
    "Most programmers in [R](https://www.r-project.org) can get by without interacting much with [R6 objects](https://r6.r-lib.org/articles/Introduction.html). In Python, however, interacting with objects is core to most applications (many of Python's core types are objects themselves), and it pays off understanding at least some of the basic syntax to interact with them. Teaching the principles of object-oriented programming is, again, outside the scope of this quick guide, but let's get the general idea of how to do basic operations on generic objects:"
   ]
  },
  {
   "cell_type": "code",
   "execution_count": 38,
   "metadata": {
    "execution": {
     "iopub.execute_input": "2023-09-06T18:01:49.898398Z",
     "iopub.status.busy": "2023-09-06T18:01:49.898281Z",
     "iopub.status.idle": "2023-09-06T18:01:49.901400Z",
     "shell.execute_reply": "2023-09-06T18:01:49.901112Z"
    }
   },
   "outputs": [
    {
     "data": {
      "text/plain": [
       "['__add__',\n",
       " '__class__',\n",
       " '__contains__',\n",
       " '__delattr__',\n",
       " '__dir__',\n",
       " '__doc__',\n",
       " '__eq__',\n",
       " '__format__',\n",
       " '__ge__',\n",
       " '__getattribute__',\n",
       " '__getitem__',\n",
       " '__getnewargs__',\n",
       " '__gt__',\n",
       " '__hash__',\n",
       " '__init__',\n",
       " '__init_subclass__',\n",
       " '__iter__',\n",
       " '__le__',\n",
       " '__len__',\n",
       " '__lt__',\n",
       " '__mod__',\n",
       " '__mul__',\n",
       " '__ne__',\n",
       " '__new__',\n",
       " '__reduce__',\n",
       " '__reduce_ex__',\n",
       " '__repr__',\n",
       " '__rmod__',\n",
       " '__rmul__',\n",
       " '__setattr__',\n",
       " '__sizeof__',\n",
       " '__str__',\n",
       " '__subclasshook__',\n",
       " 'capitalize',\n",
       " 'casefold',\n",
       " 'center',\n",
       " 'count',\n",
       " 'encode',\n",
       " 'endswith',\n",
       " 'expandtabs',\n",
       " 'find',\n",
       " 'format',\n",
       " 'format_map',\n",
       " 'index',\n",
       " 'isalnum',\n",
       " 'isalpha',\n",
       " 'isascii',\n",
       " 'isdecimal',\n",
       " 'isdigit',\n",
       " 'isidentifier',\n",
       " 'islower',\n",
       " 'isnumeric',\n",
       " 'isprintable',\n",
       " 'isspace',\n",
       " 'istitle',\n",
       " 'isupper',\n",
       " 'join',\n",
       " 'ljust',\n",
       " 'lower',\n",
       " 'lstrip',\n",
       " 'maketrans',\n",
       " 'partition',\n",
       " 'removeprefix',\n",
       " 'removesuffix',\n",
       " 'replace',\n",
       " 'rfind',\n",
       " 'rindex',\n",
       " 'rjust',\n",
       " 'rpartition',\n",
       " 'rsplit',\n",
       " 'rstrip',\n",
       " 'split',\n",
       " 'splitlines',\n",
       " 'startswith',\n",
       " 'strip',\n",
       " 'swapcase',\n",
       " 'title',\n",
       " 'translate',\n",
       " 'upper',\n",
       " 'zfill']"
      ]
     },
     "execution_count": 38,
     "metadata": {},
     "output_type": "execute_result"
    }
   ],
   "source": [
    "# After defining an object, we can check its available methods with \"dir\"\n",
    "myString = \"Testing objects\"\n",
    "dir(myString)"
   ]
  },
  {
   "cell_type": "markdown",
   "metadata": {},
   "source": [
    "To call one of the object methods or attributes, we use the dot operator (`.`):"
   ]
  },
  {
   "cell_type": "code",
   "execution_count": 39,
   "metadata": {
    "execution": {
     "iopub.execute_input": "2023-09-06T18:01:49.903626Z",
     "iopub.status.busy": "2023-09-06T18:01:49.903408Z",
     "iopub.status.idle": "2023-09-06T18:01:49.905518Z",
     "shell.execute_reply": "2023-09-06T18:01:49.905230Z"
    }
   },
   "outputs": [
    {
     "name": "stdout",
     "output_type": "stream",
     "text": [
      "String is 15 elements long and capitalized, it looks like this: TESTING OBJECTS\n"
     ]
    }
   ],
   "source": [
    "myString = \"Testing objects\"\n",
    "print(f\"String is {myString.__len__()} elements long and capitalized, it looks like this: {myString.upper()}\")"
   ]
  },
  {
   "cell_type": "markdown",
   "metadata": {},
   "source": [
    "The general syntax to access attributes and methods is:\n",
    "\n",
    "```python\n",
    "object.ATTRIBUTE_NAME\n",
    "object.METHOD_NAME()\n",
    "```\n",
    "\n",
    "This is why using the dot operator as a separator in Python (or almost any other programming language) is prohibited by the language.\n",
    "\n",
    "We will go through some object manipulation examples in the webinar (as the main structure in the package is an object), but one final thing to note is that some methods can modify the object's variables in place, and some might require assignment (depending on the `class` implementation)."
   ]
  },
  {
   "cell_type": "markdown",
   "metadata": {},
   "source": [
    "<hr>\n",
    "\n",
    "# More Information\n",
    "\n",
    "* [dataPy CADi](https://github.com/Chipdelmal/dataPy_CADi)\n",
    "  * [Python 101 (part 1)](https://github.com/Chipdelmal/dataPy_CADi/blob/master/md/python101.md)\n",
    "  * [Python 101 (part 2)](https://github.com/Chipdelmal/dataPy_CADi/blob/master/md/python101b.md)\n",
    "  * [Python 101 (part 3)](https://github.com/Chipdelmal/dataPy_CADi/blob/master/md/python101c.md)\n",
    "  * [Python 102](https://github.com/Chipdelmal/dataPy_CADi/blob/master/md/python102.md)\n",
    "  * [Advanced Python](https://github.com/Chipdelmal/dataPy_CADi/blob/master/md/python103.md)\n",
    "* [Reticulate's: Primer on Python for R Users](https://cran.r-project.org/web/packages/reticulate/vignettes/python_primer.html)\n",
    "* [NumPy: the absolute basics for beginners](https://numpy.org/doc/stable/user/absolute_beginners.html)\n",
    "* [10 minutes to pandas](https://pandas.pydata.org/docs/user_guide/10min.html)\n",
    "* [Python Crash Course (Eric Matthes)](https://nostarch.com/python-crash-course-3rd-edition)"
   ]
  }
 ],
 "metadata": {
  "kernelspec": {
   "display_name": "MGSurvE_Webinar",
   "language": "python",
   "name": "python3"
  },
  "language_info": {
   "codemirror_mode": {
    "name": "ipython",
    "version": 3
   },
   "file_extension": ".py",
   "mimetype": "text/x-python",
   "name": "python",
   "nbconvert_exporter": "python",
   "pygments_lexer": "ipython3",
   "version": "3.10.12"
  }
 },
 "nbformat": 4,
 "nbformat_minor": 2
}
