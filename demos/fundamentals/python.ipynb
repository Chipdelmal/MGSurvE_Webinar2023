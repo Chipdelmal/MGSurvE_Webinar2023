{
 "cells": [
  {
   "cell_type": "markdown",
   "metadata": {},
   "source": [
    "# Python Intro (for R programmers)"
   ]
  },
  {
   "cell_type": "markdown",
   "metadata": {},
   "source": [
    "Teaching a programming language is outside the scope of a software package webinar, but we do realize that most of our audience is more familiar with the [R programming language](https://www.r-project.org) than [Python](https://www.python.org/). This notebook will provide with some of the most common features and structures used by [MGSurvE](https://github.com/Chipdelmal/MGSurvE) so that our potential audience can get acquainted with the code structure and follow along as easily as possible."
   ]
  },
  {
   "cell_type": "markdown",
   "metadata": {},
   "source": [
    "## Warnings and Notes"
   ]
  },
  {
   "cell_type": "markdown",
   "metadata": {},
   "source": [
    "Some important things for R programmers who are new to Python are the following:\n",
    "\n",
    "* In line with most programming languages, Python is **zero-indexed**, meaning that arrays, lists, and other collections start from index `0` rather than `1`.\n",
    "* In contrast to most other programming languages, Python **does not use brackets for code-blocks rather, it uses indentation** to delimit sections of our code for functions and logic structures. While it might seem strange the first couple of times it's used, people who are used to following code-style practices will quickly get used to the idea.\n",
    "* Semi colons (`;`) are not necessary to end lines, but they can be used to do multiple commands in one line.\n",
    "* Multiple variables can be assigned in the same line: `(a, b, c) = (10, 4, 2)`\n",
    "* Lists are mutable and copies have to be done explicitly to avoid inadvertenly changing the values of elements by reference (see [lists](#list) section for more information)"
   ]
  },
  {
   "cell_type": "markdown",
   "metadata": {},
   "source": [
    "## Handling Packages"
   ]
  },
  {
   "cell_type": "markdown",
   "metadata": {},
   "source": [
    "### Installation\n",
    "\n",
    "In Python, we usually install packages outside of our applications by running the following command on the terminal:\n",
    "\n",
    "```bash\n",
    "pip install MGSurvE\n",
    "```\n",
    "\n",
    "The use of virtual environments such as venv and conda are strongly suggested to avoid package clashes and python installation paths. If we are working in Jupyter notebooks we can install packages directly in our working environment by running:\n",
    "\n",
    "```bash\n",
    "!pip install MGSurvE\n",
    "```\n",
    "\n",
    "By adding the `!` symbol we are telling the Jupyter notebook to interpret the line as a bash command, rather than a python one."
   ]
  },
  {
   "cell_type": "markdown",
   "metadata": {},
   "source": [
    "### Import\n",
    "\n",
    "To import a package into our running application, we use the `import` command, followed by the package name."
   ]
  },
  {
   "cell_type": "code",
   "execution_count": 1,
   "metadata": {
    "execution": {
     "iopub.execute_input": "2023-07-28T04:27:03.073144Z",
     "iopub.status.busy": "2023-07-28T04:27:03.072751Z",
     "iopub.status.idle": "2023-07-28T04:27:03.084095Z",
     "shell.execute_reply": "2023-07-28T04:27:03.083587Z"
    }
   },
   "outputs": [
    {
     "data": {
      "text/plain": [
       "7.0"
      ]
     },
     "execution_count": 1,
     "metadata": {},
     "output_type": "execute_result"
    }
   ],
   "source": [
    "import math\n",
    "math.sqrt(49)"
   ]
  },
  {
   "cell_type": "markdown",
   "metadata": {},
   "source": [
    "To import all the functions and variables in a package we can use:"
   ]
  },
  {
   "cell_type": "code",
   "execution_count": 2,
   "metadata": {
    "execution": {
     "iopub.execute_input": "2023-07-28T04:27:03.112572Z",
     "iopub.status.busy": "2023-07-28T04:27:03.112420Z",
     "iopub.status.idle": "2023-07-28T04:27:03.114890Z",
     "shell.execute_reply": "2023-07-28T04:27:03.114574Z"
    }
   },
   "outputs": [
    {
     "data": {
      "text/plain": [
       "7.0"
      ]
     },
     "execution_count": 2,
     "metadata": {},
     "output_type": "execute_result"
    }
   ],
   "source": [
    "from math import *\n",
    "sqrt(49)"
   ]
  },
  {
   "cell_type": "markdown",
   "metadata": {},
   "source": [
    "Which is more similar to what we would use in R. We have to be careful, however, as this can cause problems with clashing functions and variables if different packages use the same names (if two packages, for example, define the `sqrt` function).\n",
    "Another way to import specific functions from a package is:"
   ]
  },
  {
   "cell_type": "code",
   "execution_count": 3,
   "metadata": {
    "execution": {
     "iopub.execute_input": "2023-07-28T04:27:03.116602Z",
     "iopub.status.busy": "2023-07-28T04:27:03.116475Z",
     "iopub.status.idle": "2023-07-28T04:27:03.118779Z",
     "shell.execute_reply": "2023-07-28T04:27:03.118482Z"
    }
   },
   "outputs": [
    {
     "data": {
      "text/plain": [
       "7.0"
      ]
     },
     "execution_count": 3,
     "metadata": {},
     "output_type": "execute_result"
    }
   ],
   "source": [
    "from math import sqrt\n",
    "sqrt(49)"
   ]
  },
  {
   "cell_type": "markdown",
   "metadata": {},
   "source": [
    "Which is safer than importing the whole namespace with the `*` operator."
   ]
  },
  {
   "cell_type": "markdown",
   "metadata": {},
   "source": [
    "### Virtual Environments"
   ]
  },
  {
   "cell_type": "markdown",
   "metadata": {},
   "source": [
    "## Core Types"
   ]
  },
  {
   "cell_type": "markdown",
   "metadata": {},
   "source": [
    "### Numeric\n"
   ]
  },
  {
   "cell_type": "markdown",
   "metadata": {},
   "source": [
    "In most applications we can use numbers (both float and integers) the same way we would in [R](https://www.r-project.org). The only thing we have to be a bit careful with is staying within [underflow and overflow](https://pythonnumericalmethods.berkeley.edu/notebooks/chapter09.02-Floating-Point-Numbers.html) limits:"
   ]
  },
  {
   "cell_type": "code",
   "execution_count": 4,
   "metadata": {
    "execution": {
     "iopub.execute_input": "2023-07-28T04:27:03.120769Z",
     "iopub.status.busy": "2023-07-28T04:27:03.120636Z",
     "iopub.status.idle": "2023-07-28T04:27:03.122866Z",
     "shell.execute_reply": "2023-07-28T04:27:03.122579Z"
    }
   },
   "outputs": [
    {
     "data": {
      "text/plain": [
       "sys.float_info(max=1.7976931348623157e+308, max_exp=1024, max_10_exp=308, min=2.2250738585072014e-308, min_exp=-1021, min_10_exp=-307, dig=15, mant_dig=53, epsilon=2.220446049250313e-16, radix=2, rounds=1)"
      ]
     },
     "execution_count": 4,
     "metadata": {},
     "output_type": "execute_result"
    }
   ],
   "source": [
    "import sys\n",
    "sys.float_info"
   ]
  },
  {
   "cell_type": "markdown",
   "metadata": {},
   "source": [
    "### Strings"
   ]
  },
  {
   "cell_type": "markdown",
   "metadata": {},
   "source": [
    "String, as well as numerics, are pretty standard when compared to other programming languages. Since Python 3.X strings are unicode by default, so adding accents and other symbols is straightforward:"
   ]
  },
  {
   "cell_type": "code",
   "execution_count": 5,
   "metadata": {
    "execution": {
     "iopub.execute_input": "2023-07-28T04:27:03.124539Z",
     "iopub.status.busy": "2023-07-28T04:27:03.124420Z",
     "iopub.status.idle": "2023-07-28T04:27:03.126491Z",
     "shell.execute_reply": "2023-07-28T04:27:03.126206Z"
    }
   },
   "outputs": [
    {
     "name": "stdout",
     "output_type": "stream",
     "text": [
      "\n",
      "This is a multiline (multilínea)\n",
      "string.\n",
      "\n"
     ]
    }
   ],
   "source": [
    "stringOne = \"This is a string.\"\n",
    "c = '''\n",
    "This is a multiline (multilínea)\n",
    "string.\n",
    "'''\n",
    "print(c)"
   ]
  },
  {
   "cell_type": "markdown",
   "metadata": {},
   "source": [
    "One thing to take into account, though, is that strings are an immutable type. This means that we can't change the contents of a string \"in place\"."
   ]
  },
  {
   "cell_type": "code",
   "execution_count": 6,
   "metadata": {
    "execution": {
     "iopub.execute_input": "2023-07-28T04:27:03.128168Z",
     "iopub.status.busy": "2023-07-28T04:27:03.128057Z",
     "iopub.status.idle": "2023-07-28T04:27:03.130345Z",
     "shell.execute_reply": "2023-07-28T04:27:03.130029Z"
    }
   },
   "outputs": [
    {
     "data": {
      "text/plain": [
       "'ThXs Xs a strXng'"
      ]
     },
     "execution_count": 6,
     "metadata": {},
     "output_type": "execute_result"
    }
   ],
   "source": [
    "a = \"This is a string\"\n",
    "# a[5] = \"x\" # Returns an error\n",
    "\n",
    "a = a.replace(\"i\",\"X\")\n",
    "a"
   ]
  },
  {
   "cell_type": "markdown",
   "metadata": {},
   "source": [
    "\n",
    "We can also format and concatenate strings in complex ways:"
   ]
  },
  {
   "cell_type": "code",
   "execution_count": 7,
   "metadata": {
    "execution": {
     "iopub.execute_input": "2023-07-28T04:27:03.131930Z",
     "iopub.status.busy": "2023-07-28T04:27:03.131823Z",
     "iopub.status.idle": "2023-07-28T04:27:03.134286Z",
     "shell.execute_reply": "2023-07-28T04:27:03.134015Z"
    }
   },
   "outputs": [
    {
     "name": "stdout",
     "output_type": "stream",
     "text": [
      "4.56 Argentinian Pesos are worth $1 US\n"
     ]
    },
    {
     "data": {
      "text/plain": [
       "'Hello, chipdelmal. You are 1.76 m tall, and this string was concatenated'"
      ]
     },
     "execution_count": 7,
     "metadata": {},
     "output_type": "execute_result"
    }
   ],
   "source": [
    "template = '{:.2f} {:s} are worth ${:d} US'\n",
    "print(template.format(4.5560, 'Argentinian Pesos', 1))\n",
    "\n",
    "(name, height) = (\"chipdelmal\", 1.75555)\n",
    "f\"Hello, {name}. You are {height:.2f} m tall,\" + \" and this string was concatenated\""
   ]
  },
  {
   "cell_type": "markdown",
   "metadata": {},
   "source": [
    "### Boolean"
   ]
  },
  {
   "cell_type": "markdown",
   "metadata": {},
   "source": [
    "One of the advantages of using booleans in python is that logic comparisons tend to be easy to read:"
   ]
  },
  {
   "cell_type": "code",
   "execution_count": 8,
   "metadata": {
    "execution": {
     "iopub.execute_input": "2023-07-28T04:27:03.136215Z",
     "iopub.status.busy": "2023-07-28T04:27:03.136108Z",
     "iopub.status.idle": "2023-07-28T04:27:03.138136Z",
     "shell.execute_reply": "2023-07-28T04:27:03.137879Z"
    }
   },
   "outputs": [
    {
     "data": {
      "text/plain": [
       "False"
      ]
     },
     "execution_count": 8,
     "metadata": {},
     "output_type": "execute_result"
    }
   ],
   "source": [
    "(True and False) or (False or not True)"
   ]
  },
  {
   "cell_type": "markdown",
   "metadata": {},
   "source": [
    "One minor detail with booleans in Python is that they are considered numeric (where `False` takes the value of `0` and `True` a value of `1`), so operations like the following are allowed:"
   ]
  },
  {
   "cell_type": "code",
   "execution_count": 9,
   "metadata": {
    "execution": {
     "iopub.execute_input": "2023-07-28T04:27:03.139665Z",
     "iopub.status.busy": "2023-07-28T04:27:03.139552Z",
     "iopub.status.idle": "2023-07-28T04:27:03.141623Z",
     "shell.execute_reply": "2023-07-28T04:27:03.141374Z"
    }
   },
   "outputs": [
    {
     "data": {
      "text/plain": [
       "1.0"
      ]
     },
     "execution_count": 9,
     "metadata": {},
     "output_type": "execute_result"
    }
   ],
   "source": [
    "True+(False/True)"
   ]
  },
  {
   "cell_type": "markdown",
   "metadata": {},
   "source": [
    "And any number other than `0` is considered to be `True` if used in a boolean operation:"
   ]
  },
  {
   "cell_type": "code",
   "execution_count": 10,
   "metadata": {
    "execution": {
     "iopub.execute_input": "2023-07-28T04:27:03.143145Z",
     "iopub.status.busy": "2023-07-28T04:27:03.143038Z",
     "iopub.status.idle": "2023-07-28T04:27:03.144792Z",
     "shell.execute_reply": "2023-07-28T04:27:03.144544Z"
    }
   },
   "outputs": [
    {
     "name": "stdout",
     "output_type": "stream",
     "text": [
      "True\n",
      "True\n"
     ]
    }
   ],
   "source": [
    "print(5 and True)\n",
    "print(not (False and 0))"
   ]
  },
  {
   "cell_type": "markdown",
   "metadata": {},
   "source": [
    "Finally, an important thing to remember is that the operator `is` is different from the logical comparison `==`. The `==` comparison returns `True` when two variables contain the same information while `is` returns `True` when two variables are the same object (point towards the same location in memory)."
   ]
  },
  {
   "cell_type": "code",
   "execution_count": 11,
   "metadata": {
    "execution": {
     "iopub.execute_input": "2023-07-28T04:27:03.146183Z",
     "iopub.status.busy": "2023-07-28T04:27:03.146079Z",
     "iopub.status.idle": "2023-07-28T04:27:03.148337Z",
     "shell.execute_reply": "2023-07-28T04:27:03.148092Z"
    }
   },
   "outputs": [
    {
     "name": "stdout",
     "output_type": "stream",
     "text": [
      "Information in 'a' [0, 2, 3]\n",
      "Information in 'b' [0, 2, 3]\n",
      ">>> b is a: True\n",
      "Information in 'a' [1, 2, 3]\n",
      "Information in 'b' [1, 2, 3]\n",
      ">>> b is a: False\n"
     ]
    }
   ],
   "source": [
    "a = [1, 2, 3]\n",
    "b = a\n",
    "a[0] = 0\n",
    "print(f\"Information in 'a' {a}\"); \n",
    "print(f\"Information in 'b' {b}\")\n",
    "print(\">>> b is a: {}\".format(b is a))\n",
    "\n",
    "\n",
    "a = [1, 2, 3]\n",
    "b = a.copy()\n",
    "print(f\"Information in 'a' {a}\"); \n",
    "print(f\"Information in 'b' {b}\")\n",
    "print(f\">>> b is a: {b is a}\")"
   ]
  },
  {
   "cell_type": "markdown",
   "metadata": {},
   "source": [
    "### None"
   ]
  },
  {
   "cell_type": "markdown",
   "metadata": {},
   "source": [
    "The None object exists as an instance in memory, and there is only one instance of it for every Python program. One important thing to take into account is that we should always use the is operator to make comparisons to the None object:"
   ]
  },
  {
   "cell_type": "code",
   "execution_count": 12,
   "metadata": {
    "execution": {
     "iopub.execute_input": "2023-07-28T04:27:03.149918Z",
     "iopub.status.busy": "2023-07-28T04:27:03.149817Z",
     "iopub.status.idle": "2023-07-28T04:27:03.151954Z",
     "shell.execute_reply": "2023-07-28T04:27:03.151691Z"
    }
   },
   "outputs": [
    {
     "data": {
      "text/plain": [
       "True"
      ]
     },
     "execution_count": 12,
     "metadata": {},
     "output_type": "execute_result"
    }
   ],
   "source": [
    "(a, b) = (None, None)\n",
    "(a is None) and (b is None)"
   ]
  },
  {
   "cell_type": "markdown",
   "metadata": {},
   "source": [
    "## Collections"
   ]
  },
  {
   "cell_type": "markdown",
   "metadata": {},
   "source": [
    "### List"
   ]
  },
  {
   "cell_type": "markdown",
   "metadata": {},
   "source": [
    "### Tuple"
   ]
  },
  {
   "cell_type": "markdown",
   "metadata": {},
   "source": [
    "### Dictionary"
   ]
  },
  {
   "cell_type": "markdown",
   "metadata": {},
   "source": [
    "### Set"
   ]
  },
  {
   "cell_type": "markdown",
   "metadata": {},
   "source": [
    "## Control Flow"
   ]
  },
  {
   "cell_type": "markdown",
   "metadata": {},
   "source": [
    "Control flow structures work in pretty much the same way as they do in other programming languages, although python does have some convenient shortcuts to make our lives easier."
   ]
  },
  {
   "cell_type": "markdown",
   "metadata": {},
   "source": [
    "### If-Elif-Else"
   ]
  },
  {
   "cell_type": "markdown",
   "metadata": {},
   "source": [
    "If statements are pretty straightforward, the only thing we need to remember is that code-blocks are delimited by indentation:"
   ]
  },
  {
   "cell_type": "code",
   "execution_count": 13,
   "metadata": {
    "execution": {
     "iopub.execute_input": "2023-07-28T04:27:03.153797Z",
     "iopub.status.busy": "2023-07-28T04:27:03.153696Z",
     "iopub.status.idle": "2023-07-28T04:27:03.155417Z",
     "shell.execute_reply": "2023-07-28T04:27:03.155176Z"
    }
   },
   "outputs": [
    {
     "name": "stdout",
     "output_type": "stream",
     "text": [
      "The number is negative.\n",
      "End of program\n"
     ]
    }
   ],
   "source": [
    "x = -1\n",
    "if x < 0:\n",
    "  print(\"The number is negative.\")\n",
    "print(\"End of program\")"
   ]
  },
  {
   "cell_type": "markdown",
   "metadata": {},
   "source": [
    "If-elif-else statements work the same way as in any other general-purpose language:"
   ]
  },
  {
   "cell_type": "code",
   "execution_count": 14,
   "metadata": {
    "execution": {
     "iopub.execute_input": "2023-07-28T04:27:03.156799Z",
     "iopub.status.busy": "2023-07-28T04:27:03.156702Z",
     "iopub.status.idle": "2023-07-28T04:27:03.158468Z",
     "shell.execute_reply": "2023-07-28T04:27:03.158201Z"
    }
   },
   "outputs": [
    {
     "name": "stdout",
     "output_type": "stream",
     "text": [
      "The number less than zero\n"
     ]
    }
   ],
   "source": [
    "x = -10\n",
    "if x == 0:\n",
    "  print(\"The number is zero\")\n",
    "elif x < 0:\n",
    "  print(\"The number less than zero\")\n",
    "else:\n",
    "  print(\"The number more than zero\")"
   ]
  },
  {
   "cell_type": "markdown",
   "metadata": {},
   "source": [
    "And we can use single-line shorthands to make comparisons and assign values:"
   ]
  },
  {
   "cell_type": "code",
   "execution_count": 15,
   "metadata": {
    "execution": {
     "iopub.execute_input": "2023-07-28T04:27:03.159813Z",
     "iopub.status.busy": "2023-07-28T04:27:03.159727Z",
     "iopub.status.idle": "2023-07-28T04:27:03.161486Z",
     "shell.execute_reply": "2023-07-28T04:27:03.161272Z"
    }
   },
   "outputs": [
    {
     "name": "stdout",
     "output_type": "stream",
     "text": [
      "False\n"
     ]
    }
   ],
   "source": [
    "x = 0\n",
    "result = (True if (x > 0) else False)\n",
    "print(result)"
   ]
  },
  {
   "cell_type": "markdown",
   "metadata": {},
   "source": [
    "### For"
   ]
  },
  {
   "cell_type": "markdown",
   "metadata": {},
   "source": [
    "For loops iterate over collections of items (lists or tuples). We can use these loops in a traditional way:"
   ]
  },
  {
   "cell_type": "code",
   "execution_count": 16,
   "metadata": {
    "execution": {
     "iopub.execute_input": "2023-07-28T04:27:03.162884Z",
     "iopub.status.busy": "2023-07-28T04:27:03.162795Z",
     "iopub.status.idle": "2023-07-28T04:27:03.164623Z",
     "shell.execute_reply": "2023-07-28T04:27:03.164384Z"
    }
   },
   "outputs": [
    {
     "name": "stdout",
     "output_type": "stream",
     "text": [
      "0\n",
      "1\n",
      "3\n",
      "6\n",
      "10\n",
      "15\n",
      "21\n",
      "28\n",
      "36\n",
      "45\n"
     ]
    }
   ],
   "source": [
    "sum = 0\n",
    "list(range(0,10,2))\n",
    "for i in range(0,10,1):\n",
    "  sum = sum + i\n",
    "  print(sum)"
   ]
  },
  {
   "cell_type": "markdown",
   "metadata": {},
   "source": [
    "And we can iterate elements of some collections directly:"
   ]
  },
  {
   "cell_type": "code",
   "execution_count": 17,
   "metadata": {
    "execution": {
     "iopub.execute_input": "2023-07-28T04:27:03.166022Z",
     "iopub.status.busy": "2023-07-28T04:27:03.165924Z",
     "iopub.status.idle": "2023-07-28T04:27:03.167652Z",
     "shell.execute_reply": "2023-07-28T04:27:03.167430Z"
    }
   },
   "outputs": [
    {
     "name": "stdout",
     "output_type": "stream",
     "text": [
      "N: One\n",
      "N: Two\n",
      "N: Three\n",
      "N: Four\n"
     ]
    }
   ],
   "source": [
    "numbers = [\"One\", \"Two\", \"Three\", \"Four\"]\n",
    "for num in numbers:\n",
    "  print(\"N: \" + num)"
   ]
  },
  {
   "cell_type": "markdown",
   "metadata": {},
   "source": [
    "Furthermore, we can traverse a list and use the index of the currently inspected element at the same time by taking advantage of the enumerate function:"
   ]
  },
  {
   "cell_type": "code",
   "execution_count": 18,
   "metadata": {
    "execution": {
     "iopub.execute_input": "2023-07-28T04:27:03.168897Z",
     "iopub.status.busy": "2023-07-28T04:27:03.168828Z",
     "iopub.status.idle": "2023-07-28T04:27:03.171018Z",
     "shell.execute_reply": "2023-07-28T04:27:03.170754Z"
    }
   },
   "outputs": [
    {
     "name": "stdout",
     "output_type": "stream",
     "text": [
      "Number 0: One\n",
      "Number 1: Two\n",
      "Number 2: Three\n",
      "Number 3: Four\n"
     ]
    }
   ],
   "source": [
    "numbers = [\"One\", \"Two\", \"Three\", \"Four\"]\n",
    "for (i, name) in enumerate(numbers):\n",
    "  print(\"Number \" + str(i) + \": \" + name)"
   ]
  },
  {
   "cell_type": "markdown",
   "metadata": {},
   "source": [
    "### List comprehension"
   ]
  },
  {
   "cell_type": "markdown",
   "metadata": {},
   "source": [
    "One of the most beloved features in Python is the ability to do list comprehensions. By using some quick shorthands we can define and store list values easily:"
   ]
  },
  {
   "cell_type": "code",
   "execution_count": 19,
   "metadata": {
    "execution": {
     "iopub.execute_input": "2023-07-28T04:27:03.172516Z",
     "iopub.status.busy": "2023-07-28T04:27:03.172417Z",
     "iopub.status.idle": "2023-07-28T04:27:03.174262Z",
     "shell.execute_reply": "2023-07-28T04:27:03.173987Z"
    }
   },
   "outputs": [
    {
     "name": "stdout",
     "output_type": "stream",
     "text": [
      "[0, 2, 4, 6, 8, 10, 12, 14, 16, 18]\n"
     ]
    }
   ],
   "source": [
    "squaredInts = [i*2 for i in range(10)]\n",
    "print(squaredInts)"
   ]
  },
  {
   "cell_type": "markdown",
   "metadata": {},
   "source": [
    "We can even combine if-else statements in list comprehensions for more complex behaviors:\n",
    "* if: `[f(x) for x in sequence if condition]`\n",
    "* if else: `[f(x) if condition else g(x) for x in sequence]`"
   ]
  },
  {
   "cell_type": "code",
   "execution_count": 20,
   "metadata": {
    "execution": {
     "iopub.execute_input": "2023-07-28T04:27:03.175744Z",
     "iopub.status.busy": "2023-07-28T04:27:03.175634Z",
     "iopub.status.idle": "2023-07-28T04:27:03.177709Z",
     "shell.execute_reply": "2023-07-28T04:27:03.177471Z"
    }
   },
   "outputs": [
    {
     "name": "stdout",
     "output_type": "stream",
     "text": [
      "[4, 16, 36, 64]\n",
      "[1, 1.4142135623730951, 9, 2.0, 25, 2.449489742783178, 49, 2.8284271247461903, 81]\n"
     ]
    }
   ],
   "source": [
    "# Square of even numbers\n",
    "compA = [(i**2) for i in range(1, 10) if (i%2==0)]\n",
    "print(compA)\n",
    "# Square of odds, root of evens\n",
    "compB = [(i**2) if (i%2!=0) else (i**(1/2)) for i in range(1, 10)]\n",
    "print(compB)"
   ]
  },
  {
   "cell_type": "markdown",
   "metadata": {},
   "source": [
    "And we can even do comprehensions with structures such as [dictionaries](#dictionary):"
   ]
  },
  {
   "cell_type": "code",
   "execution_count": 21,
   "metadata": {
    "execution": {
     "iopub.execute_input": "2023-07-28T04:27:03.179069Z",
     "iopub.status.busy": "2023-07-28T04:27:03.178977Z",
     "iopub.status.idle": "2023-07-28T04:27:03.181151Z",
     "shell.execute_reply": "2023-07-28T04:27:03.180898Z"
    }
   },
   "outputs": [
    {
     "data": {
      "text/plain": [
       "{1: 'one', 2: 'two', 3: 'three'}"
      ]
     },
     "execution_count": 21,
     "metadata": {},
     "output_type": "execute_result"
    }
   ],
   "source": [
    "{ix+1: val for (ix, val) in enumerate(['one', 'two', 'three'])}"
   ]
  },
  {
   "cell_type": "markdown",
   "metadata": {},
   "source": [
    "### While"
   ]
  },
  {
   "cell_type": "markdown",
   "metadata": {},
   "source": [
    "While loops hold little surprises in comparison to other programming languages. An example in which we sample random uniform numbers from 0 to 10 while our sampled value is less than 8, and is run at most 10 times would be:"
   ]
  },
  {
   "cell_type": "code",
   "execution_count": 22,
   "metadata": {
    "execution": {
     "iopub.execute_input": "2023-07-28T04:27:03.182574Z",
     "iopub.status.busy": "2023-07-28T04:27:03.182463Z",
     "iopub.status.idle": "2023-07-28T04:27:03.184440Z",
     "shell.execute_reply": "2023-07-28T04:27:03.184206Z"
    }
   },
   "outputs": [
    {
     "name": "stdout",
     "output_type": "stream",
     "text": [
      "5\n"
     ]
    }
   ],
   "source": [
    "from random import randint\n",
    "\n",
    "(x, total) = (0, 0)\n",
    "while (x <= 8):\n",
    "  if total >= 10:\n",
    "    break\n",
    "  total = total + 1\n",
    "  x = randint(0, 10)\n",
    "print(total)"
   ]
  },
  {
   "cell_type": "markdown",
   "metadata": {},
   "source": [
    "## Functions"
   ]
  },
  {
   "cell_type": "markdown",
   "metadata": {},
   "source": [
    "Defining functions can be done by using the following template:\n",
    "```python\n",
    "def FUNCTION_NAME(ARGUMENTS): \n",
    "    FUNCTION_BODY\n",
    "    return FUNCTION_RESULT\n",
    "```\n",
    "\n",
    "For example, defining a simple function to return the square of a number can be done as follows:"
   ]
  },
  {
   "cell_type": "code",
   "execution_count": 23,
   "metadata": {
    "execution": {
     "iopub.execute_input": "2023-07-28T04:27:03.185937Z",
     "iopub.status.busy": "2023-07-28T04:27:03.185840Z",
     "iopub.status.idle": "2023-07-28T04:27:03.187902Z",
     "shell.execute_reply": "2023-07-28T04:27:03.187647Z"
    }
   },
   "outputs": [
    {
     "data": {
      "text/plain": [
       "4"
      ]
     },
     "execution_count": 23,
     "metadata": {},
     "output_type": "execute_result"
    }
   ],
   "source": [
    "def squared(number):\n",
    "    sqrdNum = number**2\n",
    "    return sqrdNum\n",
    "\n",
    "squared(2)"
   ]
  },
  {
   "cell_type": "markdown",
   "metadata": {},
   "source": [
    "And adding optional arguments is the same as we do in [R](https://www.r-project.org):"
   ]
  },
  {
   "cell_type": "code",
   "execution_count": 24,
   "metadata": {
    "execution": {
     "iopub.execute_input": "2023-07-28T04:27:03.189232Z",
     "iopub.status.busy": "2023-07-28T04:27:03.189134Z",
     "iopub.status.idle": "2023-07-28T04:27:03.190952Z",
     "shell.execute_reply": "2023-07-28T04:27:03.190717Z"
    }
   },
   "outputs": [
    {
     "name": "stdout",
     "output_type": "stream",
     "text": [
      "4\n",
      "256\n"
     ]
    }
   ],
   "source": [
    "def power(number, power=2):\n",
    "    pwdNum = (number**power)\n",
    "    return pwdNum\n",
    "\n",
    "print(power(2))\n",
    "print(power(2, power=8))"
   ]
  },
  {
   "cell_type": "markdown",
   "metadata": {},
   "source": [
    "## Objects"
   ]
  },
  {
   "cell_type": "markdown",
   "metadata": {},
   "source": [
    "## Files"
   ]
  },
  {
   "cell_type": "markdown",
   "metadata": {},
   "source": [
    "## Useful Packages"
   ]
  },
  {
   "cell_type": "markdown",
   "metadata": {},
   "source": [
    "### Numpy"
   ]
  },
  {
   "cell_type": "markdown",
   "metadata": {},
   "source": [
    "### Pandas"
   ]
  },
  {
   "cell_type": "markdown",
   "metadata": {},
   "source": [
    "### Matplotlib"
   ]
  },
  {
   "cell_type": "markdown",
   "metadata": {},
   "source": [
    "<hr>\n",
    "\n",
    "# More Information\n",
    "\n",
    "* [dataPy CADi](https://github.com/Chipdelmal/dataPy_CADi)\n",
    "  * [Python 101 (part 1)](https://github.com/Chipdelmal/dataPy_CADi/blob/master/md/python101.md)\n",
    "  * [Python 101 (part 2)](https://github.com/Chipdelmal/dataPy_CADi/blob/master/md/python101b.md)\n",
    "  * [Python 101 (part 3)](https://github.com/Chipdelmal/dataPy_CADi/blob/master/md/python101c.md)\n",
    "  * [Python 102](https://github.com/Chipdelmal/dataPy_CADi/blob/master/md/python102.md)\n",
    "  * [Advanced Python](https://github.com/Chipdelmal/dataPy_CADi/blob/master/md/python103.md)\n",
    "* [Reticulate's: Primer on Python for R Users](https://cran.r-project.org/web/packages/reticulate/vignettes/python_primer.html)\n",
    "* [NumPy: the absolute basics for beginners](https://numpy.org/doc/stable/user/absolute_beginners.html)\n",
    "* [10 minutes to pandas](https://pandas.pydata.org/docs/user_guide/10min.html)"
   ]
  },
  {
   "cell_type": "markdown",
   "metadata": {},
   "source": []
  }
 ],
 "metadata": {
  "kernelspec": {
   "display_name": "MGSurvE_Webinar",
   "language": "python",
   "name": "python3"
  },
  "language_info": {
   "codemirror_mode": {
    "name": "ipython",
    "version": 3
   },
   "file_extension": ".py",
   "mimetype": "text/x-python",
   "name": "python",
   "nbconvert_exporter": "python",
   "pygments_lexer": "ipython3",
   "version": "3.10.12"
  }
 },
 "nbformat": 4,
 "nbformat_minor": 2
}
