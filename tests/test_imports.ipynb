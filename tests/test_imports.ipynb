{
 "cells": [
  {
   "cell_type": "markdown",
   "metadata": {},
   "source": [
    "# Test Packages Installation"
   ]
  },
  {
   "cell_type": "markdown",
   "metadata": {},
   "source": [
    "Run this script to check that all the required packages are installed in your system."
   ]
  },
  {
   "cell_type": "code",
   "execution_count": 1,
   "metadata": {
    "execution": {
     "iopub.execute_input": "2023-07-13T23:10:17.409981Z",
     "iopub.status.busy": "2023-07-13T23:10:17.409895Z",
     "iopub.status.idle": "2023-07-13T23:10:19.144957Z",
     "shell.execute_reply": "2023-07-13T23:10:19.144673Z"
    }
   },
   "outputs": [
    {
     "name": "stdout",
     "output_type": "stream",
     "text": [
      "\u001b[32m'numpy' succesfully imported!\u001b[0m\n",
      "\u001b[32m'pandas' succesfully imported!\u001b[0m\n",
      "\u001b[32m'matplotlib' succesfully imported!\u001b[0m\n",
      "\u001b[32m'deap' succesfully imported!\u001b[0m\n",
      "\u001b[32m'cartopy' succesfully imported!\u001b[0m\n",
      "\u001b[32m'libpysal' succesfully imported!\u001b[0m\n",
      "\u001b[32m'MGSurvE' succesfully imported!\u001b[0m\n",
      "\u001b[32m'osmnx' succesfully imported!\u001b[0m\n",
      "\u001b[32m'termcolor' already imported.\u001b[0m\n",
      "\u001b[32m\n",
      "All packages are correctly installed!\u001b[0m\n"
     ]
    }
   ],
   "source": [
    "import os; os.environ['PROJ_LIB']='/path/to/env/share/proj'\n",
    "import sys\n",
    "from termcolor import colored\n",
    "import importlib.util\n",
    "\n",
    "packages = [\n",
    "    'numpy', 'pandas', 'matplotlib',\n",
    "    'deap', 'cartopy', 'libpysal', 'MGSurvE',\n",
    "    'osmnx', 'termcolor'\n",
    "]\n",
    "# Iterate through required packages -------------------------------------------\n",
    "passedTests = [False]*len(packages)\n",
    "for (ix, name) in enumerate(packages):\n",
    "    if name in sys.modules:\n",
    "        print(colored(f\"{name!r} already imported.\", 'green'))\n",
    "        passedTests[ix] = True\n",
    "    elif (spec := importlib.util.find_spec(name)) is not None:\n",
    "        module = importlib.util.module_from_spec(spec)\n",
    "        sys.modules[name] = module\n",
    "        spec.loader.exec_module(module)\n",
    "        print(colored(f\"{name!r} succesfully imported!\", 'green'))\n",
    "        passedTests[ix] = True\n",
    "    else:\n",
    "        print(colored(f\"ERROR: can't find the {name!r} module\", 'red'))\n",
    "# Check for FALSE flags in imports list ---------------------------------------\n",
    "if all(passedTests):\n",
    "    print(colored(\"\\nAll packages are correctly installed!\", 'green'))\n",
    "else:\n",
    "    print(colored(\"One or more packages failed to be imported\", 'red'))"
   ]
  }
 ],
 "metadata": {
  "kernelspec": {
   "display_name": "Python 3 (ipykernel)",
   "language": "python",
   "name": "python3"
  },
  "language_info": {
   "codemirror_mode": {
    "name": "ipython",
    "version": 3
   },
   "file_extension": ".py",
   "mimetype": "text/x-python",
   "name": "python",
   "nbconvert_exporter": "python",
   "pygments_lexer": "ipython3",
   "version": "3.10.11"
  }
 },
 "nbformat": 4,
 "nbformat_minor": 2
}
