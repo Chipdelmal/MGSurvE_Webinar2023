{
 "cells": [
  {
   "attachments": {},
   "cell_type": "markdown",
   "metadata": {},
   "source": [
    "# Test Packages Installation"
   ]
  },
  {
   "attachments": {},
   "cell_type": "markdown",
   "metadata": {},
   "source": [
    "Run this script to check that all the required packages are installed in your system."
   ]
  },
  {
   "cell_type": "code",
   "execution_count": 26,
   "metadata": {},
   "outputs": [],
   "source": [
    "packages = [\n",
    "    'numpy', 'pandas', 'matplotlib',\n",
    "    'MGSurvE', 'deap', 'cartopy', 'libpysal'\n",
    "]"
   ]
  },
  {
   "cell_type": "code",
   "execution_count": 27,
   "metadata": {},
   "outputs": [
    {
     "name": "stdout",
     "output_type": "stream",
     "text": [
      "'numpy' already imported.\n",
      "'pandas' already imported.\n",
      "'matplotlib' already imported.\n",
      "'MGSurvE' already imported.\n",
      "'deap' already imported.\n",
      "'cartopy' already imported.\n",
      "'libpysal' already imported.\n",
      "\n",
      "All packages are correctly installed!\n"
     ]
    }
   ],
   "source": [
    "import os; os.environ['PROJ_LIB']='/path/to/env/share/proj'\n",
    "import sys\n",
    "import importlib.util\n",
    "\n",
    "# Iterate through required packages\n",
    "passedTests = [False]*len(packages)\n",
    "for (ix, name) in enumerate(packages):\n",
    "    if name in sys.modules:\n",
    "        print(f\"{name!r} already imported.\")\n",
    "        passedTests[ix] = True\n",
    "    elif (spec := importlib.util.find_spec(name)) is not None:\n",
    "        # If you choose to perform the actual import ...\n",
    "        module = importlib.util.module_from_spec(spec)\n",
    "        sys.modules[name] = module\n",
    "        spec.loader.exec_module(module)\n",
    "        print(f\"{name!r} succesfully imported!\")\n",
    "        passedTests[ix] = True\n",
    "    else:\n",
    "        print(f\"ERROR: can't find the {name!r} module\")\n",
    "# Check for FALSE flags in imports list\n",
    "if all(passedTests):\n",
    "    print(\"\\nAll packages are correctly installed!\")\n",
    "else:\n",
    "    print(\"One or more packages failed to be imported\")"
   ]
  },
  {
   "cell_type": "code",
   "execution_count": null,
   "metadata": {},
   "outputs": [],
   "source": []
  }
 ],
 "metadata": {
  "kernelspec": {
   "display_name": "MGSurvE",
   "language": "python",
   "name": "python3"
  },
  "language_info": {
   "codemirror_mode": {
    "name": "ipython",
    "version": 3
   },
   "file_extension": ".py",
   "mimetype": "text/x-python",
   "name": "python",
   "nbconvert_exporter": "python",
   "pygments_lexer": "ipython3",
   "version": "3.10.11"
  },
  "orig_nbformat": 4
 },
 "nbformat": 4,
 "nbformat_minor": 2
}
